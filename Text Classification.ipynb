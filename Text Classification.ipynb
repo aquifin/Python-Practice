{
 "cells": [
  {
   "cell_type": "markdown",
   "metadata": {
    "colab_type": "text",
    "id": "ZIIB3IqLMW12"
   },
   "source": [
    "# COMP47670 Data Science in Python (Mixed Delivery)\n",
    "# Assignment 2: Text Classification"
   ]
  },
  {
   "cell_type": "markdown",
   "metadata": {
    "colab_type": "text",
    "id": "HmlCLxUVMW13"
   },
   "source": [
    "Name : Aquif Inamdar\n",
    "\n",
    "Student Number : 18200043"
   ]
  },
  {
   "cell_type": "markdown",
   "metadata": {
    "colab_type": "text",
    "id": "ut8aTqgOMW14"
   },
   "source": [
    "The objective of this assignment is to scrape consumer reviews from a web pages and evaluate the performance of text classification on the data.\n",
    "For this assignment I have used reviews from **Automotive** and **Health and Science** category."
   ]
  },
  {
   "cell_type": "markdown",
   "metadata": {
    "colab_type": "text",
    "id": "sDtfOoV1MW14"
   },
   "source": [
    "## Import Packages "
   ]
  },
  {
   "cell_type": "code",
   "execution_count": 0,
   "metadata": {
    "colab": {},
    "colab_type": "code",
    "id": "mvJHapbBMW15"
   },
   "outputs": [],
   "source": [
    "import pandas as pd\n",
    "import numpy as np\n",
    "import bs4\n",
    "import urllib\n",
    "import re\n",
    "import itertools\n",
    "\n",
    "from sklearn.model_selection import train_test_split\n",
    "from sklearn.feature_extraction.text import TfidfVectorizer,CountVectorizer\n",
    "from sklearn.neighbors import KNeighborsClassifier\n",
    "from sklearn import metrics,svm\n",
    "from sklearn.model_selection import cross_val_score,train_test_split,GridSearchCV\n",
    "from sklearn.pipeline import Pipeline\n",
    "from sklearn.preprocessing import FunctionTransformer\n",
    "from sklearn.naive_bayes import GaussianNB,MultinomialNB\n",
    "from nltk.stem import WordNetLemmatizer\n",
    "from string import digits\n",
    "\n",
    "from IPython.display import display\n",
    "import warnings\n",
    "warnings.filterwarnings('ignore')\n",
    "import matplotlib.pyplot as plt\n",
    "import operator\n",
    "from collections import Counter\n",
    "\n",
    "%matplotlib inline"
   ]
  },
  {
   "cell_type": "markdown",
   "metadata": {
    "colab_type": "text",
    "id": "XPzEcls3MW19"
   },
   "source": [
    "Links for the categories"
   ]
  },
  {
   "cell_type": "code",
   "execution_count": 0,
   "metadata": {
    "colab": {},
    "colab_type": "code",
    "id": "i146uPNZMW1-"
   },
   "outputs": [],
   "source": [
    "link = \"http://mlg.ucd.ie/modules/yalp\"\n",
    "automotive_link = \"http://mlg.ucd.ie/modules/yalp/automotive_list.html\"\n",
    "health_link = \"http://mlg.ucd.ie/modules/yalp/health_medical_list.html\""
   ]
  },
  {
   "cell_type": "markdown",
   "metadata": {
    "colab_type": "text",
    "id": "Bx7ICjWYMW2B"
   },
   "source": [
    "Set of functions used in the code"
   ]
  },
  {
   "cell_type": "code",
   "execution_count": 0,
   "metadata": {
    "colab": {},
    "colab_type": "code",
    "id": "zwZITKJhMW2B"
   },
   "outputs": [],
   "source": [
    "\"\"\"This function will get all the links present on web page\n",
    "Input : Page url\n",
    "Output : List of all the links present on page\"\"\"\n",
    "def getLinks(url):\n",
    "    html_page = urllib.request.urlopen(url)\n",
    "    soup = bs4.BeautifulSoup(html_page)\n",
    "    links = []\n",
    " \n",
    "    for link in soup.findAll('a', attrs={'href': re.compile(\".html\")}):\n",
    "        links.append(link.get('href'))\n",
    " \n",
    "    return links\n",
    "\n",
    "\"\"\"This function convert list of list to single list\"\"\"\n",
    "def flat_list(rrlist):\n",
    "    return list(itertools.chain.from_iterable(rrlist))\n",
    "\n",
    "\"\"\"This function will call get_reviews and get_rating function and return reviews and ratings\n",
    "Input : URL of the page to get reviews and rating\n",
    "Output : 2 Lists one for reviews and another for ratings\"\"\"\n",
    "def get_reviews_ratings(url):\n",
    "    review = []\n",
    "    rating = []\n",
    "\n",
    "    links = getLinks(url)\n",
    "    for review_link in links:\n",
    "        review.append(get_review(link+\"/\"+review_link))\n",
    "        rating.append(get_rating(link+\"/\"+review_link))\n",
    "    \n",
    "    return flat_list(review),convert_numto_pos_neg(flat_list(rating))\n",
    "\n",
    "\"\"\"This fuction will get all the reviews present on the web page\n",
    "Input : URl\n",
    "Output : list of reviews\"\"\"\n",
    "def get_review(url):\n",
    "    html_page = urllib.request.urlopen(url)\n",
    "    soup = bs4.BeautifulSoup(html_page)\n",
    "    reviews = []\n",
    "         \n",
    "    for txt in soup.findAll('p', attrs={'class': \"text\"}):\n",
    "        reviews.append(txt.get_text())\n",
    "    \n",
    "    return reviews\n",
    "\n",
    "\"\"\"This fuction will get all the ratings present on the web page\n",
    "Input : URl\n",
    "Output : list of ratings\"\"\"\n",
    "def get_rating(url):\n",
    "    html_page = urllib.request.urlopen(url)\n",
    "    soup = bs4.BeautifulSoup(html_page)    \n",
    "    ratings = []     \n",
    "\n",
    "    for star in soup.findAll('img', attrs={'alt': re.compile(r\"\\d+\")}):\n",
    "        ratings.append(int(star.get('alt')[0]))\n",
    " \n",
    "    return ratings\n",
    "\n",
    "\"\"\"This function will convert the number of stars ratings to positive or negative\n",
    " Starts 1-3 means negative review\n",
    " Starts 4-5 means positive review\n",
    "\"\"\"\n",
    "def convert_numto_pos_neg(rating):\n",
    "    return(['positive' if (rat > 3) else 'negative' for rat in rating ])\n",
    "\n",
    "\"\"\"This function will remove numbers and short words(i.e words having length less than 3)\n",
    "This function will also perform lemmatization(convert words to root form)\n",
    "Input : review\n",
    "Output : processed reviews \"\"\"\n",
    "def remove_num_shotwords(review):    \n",
    "    tokenize = CountVectorizer().build_tokenizer()\n",
    "    tok_rev = tokenize(review)\n",
    "\n",
    "    lemmatizer = WordNetLemmatizer()\n",
    "    lem_rev = []\n",
    "    for word in tok_rev:\n",
    "        remove_digits = str.maketrans('', '', digits)\n",
    "        word = word.translate(remove_digits).strip()\n",
    "        if word!='':            \n",
    "            lem_rev.append(lemmatizer.lemmatize(word,'v'))\n",
    "    lem_rev = ' '.join(lem_rev)\n",
    "    lem_rev = ' '.join(word for word in lem_rev.split() if len(word)>3)\n",
    "    \n",
    "    return lem_rev\n",
    "\n",
    "\"\"\"This function is used when a custom function is to be used in a pipeline.\n",
    "remove_num_shotwords function is used in pipeline for processing reviews \"\"\"\n",
    "def pipelinize(function, active=True):\n",
    "    def list_comprehend_a_function(list_or_series, active=True):\n",
    "        if active:\n",
    "            return [function(i) for i in list_or_series]\n",
    "        else: # if it's not active, just pass it right back\n",
    "            return list_or_series\n",
    "    return FunctionTransformer(list_comprehend_a_function, validate=False, kw_args={'active':active})\n",
    "\n",
    "\"\"\"This function will create a pipeline i.e series of steps to be performed on reviews to convert them into matrix of features.\n",
    "Input : classifier name and vectorizer(Tfidf/BOW)\n",
    "Output : pipeline\n",
    "\"\"\"\n",
    "def create_pipeline(classifier,vectorizer):\n",
    "    \n",
    "    if vectorizer == 'Tfidf':\n",
    "        vectorizer = TfidfVectorizer(analyzer='word',stop_words=\"english\", min_df = 5)\n",
    "    elif vectorizer == 'BOW':\n",
    "        vectorizer = CountVectorizer(stop_words=\"english\", min_df = 5)\n",
    "    \n",
    "    pipeline = Pipeline([\n",
    "     ('remove num & shotwords',pipelinize(remove_num_shotwords)),\n",
    "     ('vectorizer', vectorizer), \n",
    "     ('dense', FunctionTransformer(lambda x: x.todense(), accept_sparse=True)),\n",
    "     ('classifier', classifier)\n",
    "    ])\n",
    "    \n",
    "    return pipeline"
   ]
  },
  {
   "cell_type": "markdown",
   "metadata": {
    "colab_type": "text",
    "id": "UK_grfgVMW2E"
   },
   "source": [
    "### Task-1 Scrapping all the reviews from Automotive and Health and Science category"
   ]
  },
  {
   "cell_type": "code",
   "execution_count": 0,
   "metadata": {
    "colab": {},
    "colab_type": "code",
    "id": "x77gp-cFMW2F"
   },
   "outputs": [],
   "source": [
    "#Create empty data frame one for each category\n",
    "automotive_reviews_ratings=pd.DataFrame()\n",
    "health_reviews_ratings=pd.DataFrame()\n",
    "\n",
    "#Get the reviews and rating and store in data frame\n",
    "automotive_reviews_ratings['review'], automotive_reviews_ratings['rating'] = get_reviews_ratings(automotive_link)\n",
    "health_reviews_ratings['review'], health_reviews_ratings['rating'] = get_reviews_ratings(health_link)        "
   ]
  },
  {
   "cell_type": "markdown",
   "metadata": {
    "colab_type": "text",
    "id": "ogKeATgWMW2H"
   },
   "source": [
    "Check the data "
   ]
  },
  {
   "cell_type": "code",
   "execution_count": 5,
   "metadata": {
    "colab": {
     "base_uri": "https://localhost:8080/",
     "height": 202
    },
    "colab_type": "code",
    "id": "t3RVoTdZMW2I",
    "outputId": "4b2a7079-5ed0-4470-9af3-d1bf5cba5eeb"
   },
   "outputs": [
    {
     "data": {
      "text/html": [
       "<div>\n",
       "<style scoped>\n",
       "    .dataframe tbody tr th:only-of-type {\n",
       "        vertical-align: middle;\n",
       "    }\n",
       "\n",
       "    .dataframe tbody tr th {\n",
       "        vertical-align: top;\n",
       "    }\n",
       "\n",
       "    .dataframe thead th {\n",
       "        text-align: right;\n",
       "    }\n",
       "</style>\n",
       "<table border=\"1\" class=\"dataframe\">\n",
       "  <thead>\n",
       "    <tr style=\"text-align: right;\">\n",
       "      <th></th>\n",
       "      <th>review</th>\n",
       "      <th>rating</th>\n",
       "    </tr>\n",
       "  </thead>\n",
       "  <tbody>\n",
       "    <tr>\n",
       "      <th>0</th>\n",
       "      <td>I arrived at 3 PM and the dealership closed at...</td>\n",
       "      <td>positive</td>\n",
       "    </tr>\n",
       "    <tr>\n",
       "      <th>1</th>\n",
       "      <td>I dropped my car off on a Wednesday morning fo...</td>\n",
       "      <td>negative</td>\n",
       "    </tr>\n",
       "    <tr>\n",
       "      <th>2</th>\n",
       "      <td>My parents have been buying cars off of Donna ...</td>\n",
       "      <td>positive</td>\n",
       "    </tr>\n",
       "    <tr>\n",
       "      <th>3</th>\n",
       "      <td>I recently bought another car from Donna Dunni...</td>\n",
       "      <td>positive</td>\n",
       "    </tr>\n",
       "    <tr>\n",
       "      <th>4</th>\n",
       "      <td>I had to schedule an appointment due to the ai...</td>\n",
       "      <td>positive</td>\n",
       "    </tr>\n",
       "  </tbody>\n",
       "</table>\n",
       "</div>"
      ],
      "text/plain": [
       "                                              review    rating\n",
       "0  I arrived at 3 PM and the dealership closed at...  positive\n",
       "1  I dropped my car off on a Wednesday morning fo...  negative\n",
       "2  My parents have been buying cars off of Donna ...  positive\n",
       "3  I recently bought another car from Donna Dunni...  positive\n",
       "4  I had to schedule an appointment due to the ai...  positive"
      ]
     },
     "execution_count": 5,
     "metadata": {
      "tags": []
     },
     "output_type": "execute_result"
    }
   ],
   "source": [
    "automotive_reviews_ratings.head()"
   ]
  },
  {
   "cell_type": "code",
   "execution_count": 6,
   "metadata": {
    "colab": {
     "base_uri": "https://localhost:8080/",
     "height": 202
    },
    "colab_type": "code",
    "id": "p5bm5YkjMW2N",
    "outputId": "c1886e23-3cb6-404e-ace1-bdc214b8cf40"
   },
   "outputs": [
    {
     "data": {
      "text/html": [
       "<div>\n",
       "<style scoped>\n",
       "    .dataframe tbody tr th:only-of-type {\n",
       "        vertical-align: middle;\n",
       "    }\n",
       "\n",
       "    .dataframe tbody tr th {\n",
       "        vertical-align: top;\n",
       "    }\n",
       "\n",
       "    .dataframe thead th {\n",
       "        text-align: right;\n",
       "    }\n",
       "</style>\n",
       "<table border=\"1\" class=\"dataframe\">\n",
       "  <thead>\n",
       "    <tr style=\"text-align: right;\">\n",
       "      <th></th>\n",
       "      <th>review</th>\n",
       "      <th>rating</th>\n",
       "    </tr>\n",
       "  </thead>\n",
       "  <tbody>\n",
       "    <tr>\n",
       "      <th>0</th>\n",
       "      <td>I have so many good things to say about this p...</td>\n",
       "      <td>positive</td>\n",
       "    </tr>\n",
       "    <tr>\n",
       "      <th>1</th>\n",
       "      <td>I found them to be highly skilled and an exper...</td>\n",
       "      <td>positive</td>\n",
       "    </tr>\n",
       "    <tr>\n",
       "      <th>2</th>\n",
       "      <td>Where do I even begin? This office has been so...</td>\n",
       "      <td>positive</td>\n",
       "    </tr>\n",
       "    <tr>\n",
       "      <th>3</th>\n",
       "      <td>I went in because I had toothache and needed a...</td>\n",
       "      <td>positive</td>\n",
       "    </tr>\n",
       "    <tr>\n",
       "      <th>4</th>\n",
       "      <td>Found a new dental office. This place is amazi...</td>\n",
       "      <td>positive</td>\n",
       "    </tr>\n",
       "  </tbody>\n",
       "</table>\n",
       "</div>"
      ],
      "text/plain": [
       "                                              review    rating\n",
       "0  I have so many good things to say about this p...  positive\n",
       "1  I found them to be highly skilled and an exper...  positive\n",
       "2  Where do I even begin? This office has been so...  positive\n",
       "3  I went in because I had toothache and needed a...  positive\n",
       "4  Found a new dental office. This place is amazi...  positive"
      ]
     },
     "execution_count": 6,
     "metadata": {
      "tags": []
     },
     "output_type": "execute_result"
    }
   ],
   "source": [
    "health_reviews_ratings.head()"
   ]
  },
  {
   "cell_type": "markdown",
   "metadata": {
    "colab_type": "text",
    "id": "nfwI7HsOMW2R"
   },
   "source": [
    "Store the data in .csv file"
   ]
  },
  {
   "cell_type": "code",
   "execution_count": 0,
   "metadata": {
    "colab": {},
    "colab_type": "code",
    "id": "QLN6hyD4MW2S"
   },
   "outputs": [],
   "source": [
    "#One .csv file for each category\n",
    "automotive_reviews_ratings.to_csv(\"Automotive.csv\",index = None)\n",
    "health_reviews_ratings.to_csv(\"Health.csv\",index = None)"
   ]
  },
  {
   "cell_type": "markdown",
   "metadata": {
    "colab_type": "text",
    "id": "yQdftN4LMW2U"
   },
   "source": [
    "### Task-2 Preprocessing or reviews to create a numeric representation of the data, Build a classification model and Test the predictions of the classification model"
   ]
  },
  {
   "cell_type": "markdown",
   "metadata": {
    "colab_type": "text",
    "id": "VTRR4OYkMW2V"
   },
   "source": [
    "For this task I have created a **pipeline** which will perform following steps:\n",
    "1. Remove the numbers and short words i.e words having length less the 3 from the reviews\n",
    "2. Vectorize the reviews either in Bag-of-words document-term matrix or Tfidf. While vectorizing remove stopwords and words that dont appear in more than 5 documents i.e 5 reviews.\n",
    "3. Classify the text with appropriate classification algorithm."
   ]
  },
  {
   "cell_type": "markdown",
   "metadata": {
    "colab_type": "text",
    "id": "SPjM-ZJ8MW2W"
   },
   "source": [
    "For this assignment I have used both **CountVectorizer()** and **TfidfVectorizer()** to check which vectorizer will give better result.\n",
    "I have used **K-nn, Naive Bayes and SVM** classifier for classification\n",
    "\n",
    "Basic Steps for each classifier are:\n",
    "1. Create a **pipeline** with specified classifier and vectorizer\n",
    "2. Perform a **GridSearch**\n",
    "3. **Fit** the model with best parameters found\n",
    "4. Make **predictions** on fitted model\n",
    "5. Calculate **accuracy** and display **confusion matrix**"
   ]
  },
  {
   "cell_type": "markdown",
   "metadata": {
    "colab_type": "text",
    "id": "FrST5v5qMW2X"
   },
   "source": [
    "To find which vectorizer is better I have first used Tfidfvectorizer and ran on all the classifiers and noted the accuracy for each and i have performed same with Bag-of-words"
   ]
  },
  {
   "cell_type": "code",
   "execution_count": 0,
   "metadata": {
    "colab": {},
    "colab_type": "code",
    "id": "2YrepMmDMW2X"
   },
   "outputs": [],
   "source": [
    "# Dictionary to store the accuracy from different classifier\n",
    "Tfidf_model_accuracy = {} # Store accuracy for different classifier with vectorizer = TfidfVectorizer\n",
    "Tfidf_model_accuracy_fold = {} # Store accuracy for grid search for different classifier with vectorizer = TfidfVectorizer\n",
    "BOW_model_accuracy = {}   # Store accuracy for different classifier with vectorizer = CountVectorizer\n",
    "BOW_model_accuracy_fold = {}   # Store accuracy for grid search for different classifier with vectorizer = CountVectorizer"
   ]
  },
  {
   "cell_type": "code",
   "execution_count": 0,
   "metadata": {
    "colab": {},
    "colab_type": "code",
    "id": "k5AOommJMW2a"
   },
   "outputs": [],
   "source": [
    "#Read the stored file of Automotive\n",
    "automotive_reviews_ratings = pd.read_csv('Automotive.csv')\n",
    "#Read the stored file of Health\n",
    "health_reviews_ratings = pd.read_csv('Health.csv')"
   ]
  },
  {
   "cell_type": "markdown",
   "metadata": {
    "colab_type": "text",
    "id": "Zpxk-jWnMW2e"
   },
   "source": [
    "## Vectorizer Tfidf"
   ]
  },
  {
   "cell_type": "markdown",
   "metadata": {
    "colab_type": "text",
    "id": "Th9c03Y6MW2f"
   },
   "source": [
    "### Category : Automotive"
   ]
  },
  {
   "cell_type": "code",
   "execution_count": 0,
   "metadata": {
    "colab": {},
    "colab_type": "code",
    "id": "vqS3QM0DMW2g"
   },
   "outputs": [],
   "source": [
    "# Split data into training and testing\n",
    "x_train, x_test, y_train, y_test = train_test_split(automotive_reviews_ratings['review'],automotive_reviews_ratings['rating'],train_size=0.7)\n"
   ]
  },
  {
   "cell_type": "markdown",
   "metadata": {
    "colab_type": "text",
    "id": "dlNjVRVRMW2j"
   },
   "source": [
    "#### Classifier : K-nn & Vectorizer : Tfidf"
   ]
  },
  {
   "cell_type": "markdown",
   "metadata": {},
   "source": [
    "Grid Search"
   ]
  },
  {
   "cell_type": "code",
   "execution_count": 11,
   "metadata": {
    "colab": {
     "base_uri": "https://localhost:8080/",
     "height": 431
    },
    "colab_type": "code",
    "id": "kyMmuOFvMW2k",
    "outputId": "19a07855-2254-4dd9-b8a4-0a37b246526c"
   },
   "outputs": [
    {
     "name": "stdout",
     "output_type": "stream",
     "text": [
      "Best parameters set found on development set:\n"
     ]
    },
    {
     "data": {
      "text/plain": [
       "{'classifier__metric': 'euclidean',\n",
       " 'classifier__n_neighbors': 11,\n",
       " 'classifier__weights': 'distance'}"
      ]
     },
     "metadata": {
      "tags": []
     },
     "output_type": "display_data"
    },
    {
     "name": "stdout",
     "output_type": "stream",
     "text": [
      "Accuracy: 0.8352402745995423\n",
      "              precision    recall  f1-score   support\n",
      "\n",
      "    negative       0.87      0.57      0.69       140\n",
      "    positive       0.83      0.96      0.89       297\n",
      "\n",
      "   micro avg       0.84      0.84      0.84       437\n",
      "   macro avg       0.85      0.77      0.79       437\n",
      "weighted avg       0.84      0.84      0.82       437\n",
      "\n",
      "Confusion Matrix\n"
     ]
    },
    {
     "data": {
      "text/html": [
       "<div>\n",
       "<style scoped>\n",
       "    .dataframe tbody tr th:only-of-type {\n",
       "        vertical-align: middle;\n",
       "    }\n",
       "\n",
       "    .dataframe tbody tr th {\n",
       "        vertical-align: top;\n",
       "    }\n",
       "\n",
       "    .dataframe thead th {\n",
       "        text-align: right;\n",
       "    }\n",
       "</style>\n",
       "<table border=\"1\" class=\"dataframe\">\n",
       "  <thead>\n",
       "    <tr style=\"text-align: right;\">\n",
       "      <th>Predicted</th>\n",
       "      <th>negative</th>\n",
       "      <th>positive</th>\n",
       "      <th>All</th>\n",
       "    </tr>\n",
       "    <tr>\n",
       "      <th>True</th>\n",
       "      <th></th>\n",
       "      <th></th>\n",
       "      <th></th>\n",
       "    </tr>\n",
       "  </thead>\n",
       "  <tbody>\n",
       "    <tr>\n",
       "      <th>negative</th>\n",
       "      <td>80</td>\n",
       "      <td>60</td>\n",
       "      <td>140</td>\n",
       "    </tr>\n",
       "    <tr>\n",
       "      <th>positive</th>\n",
       "      <td>12</td>\n",
       "      <td>285</td>\n",
       "      <td>297</td>\n",
       "    </tr>\n",
       "    <tr>\n",
       "      <th>All</th>\n",
       "      <td>92</td>\n",
       "      <td>345</td>\n",
       "      <td>437</td>\n",
       "    </tr>\n",
       "  </tbody>\n",
       "</table>\n",
       "</div>"
      ],
      "text/plain": [
       "Predicted  negative  positive  All\n",
       "True                              \n",
       "negative         80        60  140\n",
       "positive         12       285  297\n",
       "All              92       345  437"
      ]
     },
     "execution_count": 11,
     "metadata": {
      "tags": []
     },
     "output_type": "execute_result"
    }
   ],
   "source": [
    "# Create pipeline \n",
    "pipeline = create_pipeline(KNeighborsClassifier(),'Tfidf')\n",
    "\n",
    "#Grid parameters\n",
    "parama = {'classifier__n_neighbors': [3,4,6,9,11],\n",
    "           'classifier__weights': ['uniform','distance'],\n",
    "           'classifier__metric': ['euclidean','manhattan']}\n",
    "\n",
    "#Perform GridSearch\n",
    "model_knn = GridSearchCV(pipeline, parama, scoring='roc_auc')\n",
    "\n",
    "#Fit model on best parameter\n",
    "model_knn.fit(x_train, y_train)\n",
    "print(\"Best parameters set found on development set:\")\n",
    "display(model_knn.best_params_)\n",
    "\n",
    "# Make a set of predictions for the test data\n",
    "y_pred = model_knn.predict(x_test)\n",
    "\n",
    "# Print performance details\n",
    "accuracy = metrics.accuracy_score(y_test, y_pred) # , normalize=True, sample_weight=None\n",
    "Tfidf_model_accuracy[\"Automotive-Knn\"] = accuracy\n",
    "print(\"Accuracy: \" +  str(accuracy))\n",
    "print(metrics.classification_report(y_test, y_pred))\n",
    "\n",
    "# Print confusion matrix\n",
    "print(\"Confusion Matrix\")\n",
    "pd.crosstab(np.array(y_test), y_pred, rownames=['True'], colnames=['Predicted'], margins=True)"
   ]
  },
  {
   "cell_type": "markdown",
   "metadata": {},
   "source": [
    "5-fold cross validation"
   ]
  },
  {
   "cell_type": "code",
   "execution_count": 12,
   "metadata": {
    "colab": {
     "base_uri": "https://localhost:8080/",
     "height": 52
    },
    "colab_type": "code",
    "id": "39oXIgrOMW2n",
    "outputId": "211e16df-06a0-40b1-8a33-dd3c1fb0809e"
   },
   "outputs": [
    {
     "name": "stdout",
     "output_type": "stream",
     "text": [
      "Accuracy for 5 folds [0.75684932 0.69178082 0.68041237 0.75862069 0.80344828]\n",
      "Mean accuracy 0.7382222947275128\n"
     ]
    }
   ],
   "source": [
    "#Classifier\n",
    "clf = KNeighborsClassifier(metric= \"euclidean\", n_neighbors= 11, weights= \"distance\")\n",
    "#Create pipeline\n",
    "pipeline = create_pipeline(clf,'Tfidf')\n",
    "#Perform 5 fold cross validation\n",
    "scores = cross_val_score(pipeline,automotive_reviews_ratings['review'],automotive_reviews_ratings['rating'] , cv=5)\n",
    "#Store the mean score \n",
    "Tfidf_model_accuracy_fold[\"Automotive-Knn\"] = scores.mean()\n",
    "\n",
    "print(\"Accuracy for 5 folds\",scores)\n",
    "print(\"Mean accuracy\",scores.mean())"
   ]
  },
  {
   "cell_type": "markdown",
   "metadata": {
    "colab_type": "text",
    "id": "nM8PgblXMW2q"
   },
   "source": [
    "#### Classifier : Naive Bayes & Vectorizer : Tfidf"
   ]
  },
  {
   "cell_type": "markdown",
   "metadata": {},
   "source": [
    "Grid Search"
   ]
  },
  {
   "cell_type": "code",
   "execution_count": 13,
   "metadata": {
    "colab": {
     "base_uri": "https://localhost:8080/",
     "height": 397
    },
    "colab_type": "code",
    "id": "T8aF8hPhMW2r",
    "outputId": "a6ce2e56-c0f7-4e58-a7d9-a137b62adfac"
   },
   "outputs": [
    {
     "name": "stdout",
     "output_type": "stream",
     "text": [
      "Best parameters set found on development set:\n"
     ]
    },
    {
     "data": {
      "text/plain": [
       "{'classifier': MultinomialNB(alpha=1.0, class_prior=None, fit_prior=True)}"
      ]
     },
     "metadata": {
      "tags": []
     },
     "output_type": "display_data"
    },
    {
     "name": "stdout",
     "output_type": "stream",
     "text": [
      "Accuracy: 0.8535469107551488\n",
      "              precision    recall  f1-score   support\n",
      "\n",
      "    negative       0.97      0.56      0.71       140\n",
      "    positive       0.83      0.99      0.90       297\n",
      "\n",
      "   micro avg       0.85      0.85      0.85       437\n",
      "   macro avg       0.90      0.78      0.81       437\n",
      "weighted avg       0.87      0.85      0.84       437\n",
      "\n",
      "Confusion Matrix\n"
     ]
    },
    {
     "data": {
      "text/html": [
       "<div>\n",
       "<style scoped>\n",
       "    .dataframe tbody tr th:only-of-type {\n",
       "        vertical-align: middle;\n",
       "    }\n",
       "\n",
       "    .dataframe tbody tr th {\n",
       "        vertical-align: top;\n",
       "    }\n",
       "\n",
       "    .dataframe thead th {\n",
       "        text-align: right;\n",
       "    }\n",
       "</style>\n",
       "<table border=\"1\" class=\"dataframe\">\n",
       "  <thead>\n",
       "    <tr style=\"text-align: right;\">\n",
       "      <th>Predicted</th>\n",
       "      <th>negative</th>\n",
       "      <th>positive</th>\n",
       "      <th>All</th>\n",
       "    </tr>\n",
       "    <tr>\n",
       "      <th>True</th>\n",
       "      <th></th>\n",
       "      <th></th>\n",
       "      <th></th>\n",
       "    </tr>\n",
       "  </thead>\n",
       "  <tbody>\n",
       "    <tr>\n",
       "      <th>negative</th>\n",
       "      <td>78</td>\n",
       "      <td>62</td>\n",
       "      <td>140</td>\n",
       "    </tr>\n",
       "    <tr>\n",
       "      <th>positive</th>\n",
       "      <td>2</td>\n",
       "      <td>295</td>\n",
       "      <td>297</td>\n",
       "    </tr>\n",
       "    <tr>\n",
       "      <th>All</th>\n",
       "      <td>80</td>\n",
       "      <td>357</td>\n",
       "      <td>437</td>\n",
       "    </tr>\n",
       "  </tbody>\n",
       "</table>\n",
       "</div>"
      ],
      "text/plain": [
       "Predicted  negative  positive  All\n",
       "True                              \n",
       "negative         78        62  140\n",
       "positive          2       295  297\n",
       "All              80       357  437"
      ]
     },
     "execution_count": 13,
     "metadata": {
      "tags": []
     },
     "output_type": "execute_result"
    }
   ],
   "source": [
    "#Create pipeline\n",
    "pipeline = create_pipeline(MultinomialNB(),'Tfidf')\n",
    "\n",
    "#Grid parameters\n",
    "parama = {'classifier': [MultinomialNB(),GaussianNB()]}\n",
    "\n",
    "#Perform GridSearch\n",
    "model_nb = GridSearchCV(pipeline, parama, scoring='roc_auc')\n",
    "\n",
    "#Fit model on best parameters\n",
    "model_nb.fit(x_train, y_train)\n",
    "print(\"Best parameters set found on development set:\")\n",
    "display(model_nb.best_params_)\n",
    "\n",
    "# Make a set of predictions for the test data\n",
    "y_pred = model_nb.predict(x_test)\n",
    "\n",
    "# Print performance details\n",
    "accuracy = metrics.accuracy_score(y_test, y_pred) # , normalize=True, sample_weight=None\n",
    "Tfidf_model_accuracy[\"Automotive-NaiveBayes\"] = accuracy\n",
    "print(\"Accuracy: \" +  str(accuracy))\n",
    "print(metrics.classification_report(y_test, y_pred))\n",
    "\n",
    "# Print confusion matrix\n",
    "print(\"Confusion Matrix\")\n",
    "pd.crosstab(np.array(y_test), y_pred, rownames=['True'], colnames=['Predicted'], margins=True)"
   ]
  },
  {
   "cell_type": "markdown",
   "metadata": {},
   "source": [
    "5-fold cross validation"
   ]
  },
  {
   "cell_type": "code",
   "execution_count": 14,
   "metadata": {
    "colab": {
     "base_uri": "https://localhost:8080/",
     "height": 52
    },
    "colab_type": "code",
    "id": "ittrs-mcMW21",
    "outputId": "f9a73a3b-77f5-4f6e-ded5-7eb76c5402fe"
   },
   "outputs": [
    {
     "name": "stdout",
     "output_type": "stream",
     "text": [
      "Accuracy for 5 folds [0.83219178 0.81164384 0.83505155 0.82413793 0.88965517]\n",
      "Mean accuracy 0.8385360532556769\n"
     ]
    }
   ],
   "source": [
    "#Classifier\n",
    "clf = MultinomialNB(alpha=1.0, class_prior=None, fit_prior=True)\n",
    "#Create pipeline\n",
    "pipeline = create_pipeline(clf,'Tfidf')\n",
    "#Perform 5 fold cross validation\n",
    "scores = cross_val_score(pipeline,automotive_reviews_ratings['review'],automotive_reviews_ratings['rating'] , cv=5)\n",
    "#Store the mean score \n",
    "Tfidf_model_accuracy_fold[\"Automotive-NaiveBayes\"] = scores.mean()\n",
    "\n",
    "print(\"Accuracy for 5 folds\",scores)\n",
    "print(\"Mean accuracy\",scores.mean())"
   ]
  },
  {
   "cell_type": "markdown",
   "metadata": {
    "colab_type": "text",
    "id": "607vhO7NMW25"
   },
   "source": [
    "#### Classifier : SVM & Vectorizer : Tfidf"
   ]
  },
  {
   "cell_type": "markdown",
   "metadata": {},
   "source": [
    "Grid Search"
   ]
  },
  {
   "cell_type": "code",
   "execution_count": 15,
   "metadata": {
    "colab": {
     "base_uri": "https://localhost:8080/",
     "height": 397
    },
    "colab_type": "code",
    "id": "a5Fk7PKWMW26",
    "outputId": "45a0d713-fa76-417c-9952-64e7e73d3994",
    "scrolled": true
   },
   "outputs": [
    {
     "name": "stdout",
     "output_type": "stream",
     "text": [
      "Best parameters set found on development set:\n"
     ]
    },
    {
     "data": {
      "text/plain": [
       "{'classifier__C': 1, 'classifier__kernel': 'linear'}"
      ]
     },
     "metadata": {
      "tags": []
     },
     "output_type": "display_data"
    },
    {
     "name": "stdout",
     "output_type": "stream",
     "text": [
      "Accuracy: 0.8901601830663616\n",
      "              precision    recall  f1-score   support\n",
      "\n",
      "    negative       0.86      0.79      0.82       140\n",
      "    positive       0.90      0.94      0.92       297\n",
      "\n",
      "   micro avg       0.89      0.89      0.89       437\n",
      "   macro avg       0.88      0.86      0.87       437\n",
      "weighted avg       0.89      0.89      0.89       437\n",
      "\n",
      "Confusion Matrix\n"
     ]
    },
    {
     "data": {
      "text/html": [
       "<div>\n",
       "<style scoped>\n",
       "    .dataframe tbody tr th:only-of-type {\n",
       "        vertical-align: middle;\n",
       "    }\n",
       "\n",
       "    .dataframe tbody tr th {\n",
       "        vertical-align: top;\n",
       "    }\n",
       "\n",
       "    .dataframe thead th {\n",
       "        text-align: right;\n",
       "    }\n",
       "</style>\n",
       "<table border=\"1\" class=\"dataframe\">\n",
       "  <thead>\n",
       "    <tr style=\"text-align: right;\">\n",
       "      <th>Predicted</th>\n",
       "      <th>negative</th>\n",
       "      <th>positive</th>\n",
       "      <th>All</th>\n",
       "    </tr>\n",
       "    <tr>\n",
       "      <th>True</th>\n",
       "      <th></th>\n",
       "      <th></th>\n",
       "      <th></th>\n",
       "    </tr>\n",
       "  </thead>\n",
       "  <tbody>\n",
       "    <tr>\n",
       "      <th>negative</th>\n",
       "      <td>110</td>\n",
       "      <td>30</td>\n",
       "      <td>140</td>\n",
       "    </tr>\n",
       "    <tr>\n",
       "      <th>positive</th>\n",
       "      <td>18</td>\n",
       "      <td>279</td>\n",
       "      <td>297</td>\n",
       "    </tr>\n",
       "    <tr>\n",
       "      <th>All</th>\n",
       "      <td>128</td>\n",
       "      <td>309</td>\n",
       "      <td>437</td>\n",
       "    </tr>\n",
       "  </tbody>\n",
       "</table>\n",
       "</div>"
      ],
      "text/plain": [
       "Predicted  negative  positive  All\n",
       "True                              \n",
       "negative        110        30  140\n",
       "positive         18       279  297\n",
       "All             128       309  437"
      ]
     },
     "execution_count": 15,
     "metadata": {
      "tags": []
     },
     "output_type": "execute_result"
    }
   ],
   "source": [
    "#Create pipeline\n",
    "pipeline = create_pipeline(svm.SVC(),'Tfidf')\n",
    "#Grid Parameters\n",
    "parama = {'classifier__kernel': ['linear'],\n",
    "           'classifier__C': [1, 10]}\n",
    "\n",
    "#Perform GridSearch\n",
    "model_svm = GridSearchCV(pipeline, parama, scoring='roc_auc')\n",
    "\n",
    "#Fit model on best parameters\n",
    "model_svm.fit(x_train, y_train)\n",
    "print(\"Best parameters set found on development set:\")\n",
    "display(model_svm.best_params_)\n",
    "\n",
    "# Make a set of predictions for the test data\n",
    "y_pred = model_svm.predict(x_test)\n",
    "\n",
    "# Print performance details\n",
    "accuracy = metrics.accuracy_score(y_test, y_pred) # , normalize=True, sample_weight=None\n",
    "Tfidf_model_accuracy[\"Automotive-SVM\"] = accuracy\n",
    "print(\"Accuracy: \" +  str(accuracy))\n",
    "print(metrics.classification_report(y_test, y_pred))\n",
    "\n",
    "# Print confusion matrix\n",
    "print(\"Confusion Matrix\")\n",
    "pd.crosstab(np.array(y_test), y_pred, rownames=['True'], colnames=['Predicted'], margins=True)"
   ]
  },
  {
   "cell_type": "markdown",
   "metadata": {},
   "source": [
    "5-fold cross validation"
   ]
  },
  {
   "cell_type": "code",
   "execution_count": 16,
   "metadata": {
    "colab": {
     "base_uri": "https://localhost:8080/",
     "height": 52
    },
    "colab_type": "code",
    "id": "p9tdr1mWMW29",
    "outputId": "38a1e0f0-46cd-4242-c4f8-f65178566592"
   },
   "outputs": [
    {
     "name": "stdout",
     "output_type": "stream",
     "text": [
      "Accuracy for 5 folds [0.87671233 0.88013699 0.86597938 0.84827586 0.88965517]\n",
      "Mean accuracy 0.8721519461989102\n"
     ]
    }
   ],
   "source": [
    "#Classifier\n",
    "clf = svm.SVC(C= 1, kernel='linear')\n",
    "#Create pipeline\n",
    "pipeline = create_pipeline(clf,'Tfidf')\n",
    "#Perform 5 fold cross validation\n",
    "scores = cross_val_score(pipeline,automotive_reviews_ratings['review'],automotive_reviews_ratings['rating'] , cv=5)\n",
    "#Store the mean score \n",
    "Tfidf_model_accuracy_fold[\"Automotive-SVM\"] = scores.mean()\n",
    "\n",
    "print(\"Accuracy for 5 folds\",scores)\n",
    "print(\"Mean accuracy\",scores.mean())"
   ]
  },
  {
   "cell_type": "markdown",
   "metadata": {
    "colab_type": "text",
    "id": "8zcFzfDuMW3A"
   },
   "source": [
    "### Category : Health and Science"
   ]
  },
  {
   "cell_type": "code",
   "execution_count": 0,
   "metadata": {
    "colab": {},
    "colab_type": "code",
    "id": "mpQ5WM6nMW3B"
   },
   "outputs": [],
   "source": [
    "#split data into training and testing\n",
    "x_train, x_test, y_train, y_test = train_test_split(health_reviews_ratings['review'],health_reviews_ratings['rating'],train_size=0.7)\n"
   ]
  },
  {
   "cell_type": "markdown",
   "metadata": {
    "colab_type": "text",
    "id": "z2cLV4CdMW3D"
   },
   "source": [
    "#### Classifier : K-nn & Vectorizer : Tfidf"
   ]
  },
  {
   "cell_type": "markdown",
   "metadata": {},
   "source": [
    "Grid Search"
   ]
  },
  {
   "cell_type": "code",
   "execution_count": 18,
   "metadata": {
    "colab": {
     "base_uri": "https://localhost:8080/",
     "height": 431
    },
    "colab_type": "code",
    "id": "ROKBuWj4MW3D",
    "outputId": "48f6ad0f-00f1-4c96-f540-0d8dc29fd6ec"
   },
   "outputs": [
    {
     "name": "stdout",
     "output_type": "stream",
     "text": [
      "Best parameters set found on development set:\n"
     ]
    },
    {
     "data": {
      "text/plain": [
       "{'classifier__metric': 'euclidean',\n",
       " 'classifier__n_neighbors': 11,\n",
       " 'classifier__weights': 'distance'}"
      ]
     },
     "metadata": {
      "tags": []
     },
     "output_type": "display_data"
    },
    {
     "name": "stdout",
     "output_type": "stream",
     "text": [
      "Accuracy: 0.841743119266055\n",
      "              precision    recall  f1-score   support\n",
      "\n",
      "    negative       0.75      0.55      0.63       108\n",
      "    positive       0.86      0.94      0.90       328\n",
      "\n",
      "   micro avg       0.84      0.84      0.84       436\n",
      "   macro avg       0.80      0.74      0.77       436\n",
      "weighted avg       0.83      0.84      0.83       436\n",
      "\n",
      "Confusion Matrix\n"
     ]
    },
    {
     "data": {
      "text/html": [
       "<div>\n",
       "<style scoped>\n",
       "    .dataframe tbody tr th:only-of-type {\n",
       "        vertical-align: middle;\n",
       "    }\n",
       "\n",
       "    .dataframe tbody tr th {\n",
       "        vertical-align: top;\n",
       "    }\n",
       "\n",
       "    .dataframe thead th {\n",
       "        text-align: right;\n",
       "    }\n",
       "</style>\n",
       "<table border=\"1\" class=\"dataframe\">\n",
       "  <thead>\n",
       "    <tr style=\"text-align: right;\">\n",
       "      <th>Predicted</th>\n",
       "      <th>negative</th>\n",
       "      <th>positive</th>\n",
       "      <th>All</th>\n",
       "    </tr>\n",
       "    <tr>\n",
       "      <th>True</th>\n",
       "      <th></th>\n",
       "      <th></th>\n",
       "      <th></th>\n",
       "    </tr>\n",
       "  </thead>\n",
       "  <tbody>\n",
       "    <tr>\n",
       "      <th>negative</th>\n",
       "      <td>59</td>\n",
       "      <td>49</td>\n",
       "      <td>108</td>\n",
       "    </tr>\n",
       "    <tr>\n",
       "      <th>positive</th>\n",
       "      <td>20</td>\n",
       "      <td>308</td>\n",
       "      <td>328</td>\n",
       "    </tr>\n",
       "    <tr>\n",
       "      <th>All</th>\n",
       "      <td>79</td>\n",
       "      <td>357</td>\n",
       "      <td>436</td>\n",
       "    </tr>\n",
       "  </tbody>\n",
       "</table>\n",
       "</div>"
      ],
      "text/plain": [
       "Predicted  negative  positive  All\n",
       "True                              \n",
       "negative         59        49  108\n",
       "positive         20       308  328\n",
       "All              79       357  436"
      ]
     },
     "execution_count": 18,
     "metadata": {
      "tags": []
     },
     "output_type": "execute_result"
    }
   ],
   "source": [
    "#Create pipeline\n",
    "pipeline = create_pipeline(KNeighborsClassifier(),'Tfidf')\n",
    "#Grid Parameters\n",
    "parama = {'classifier__n_neighbors': [3,4,6,9,11],\n",
    "           'classifier__weights': ['uniform','distance'],\n",
    "           'classifier__metric': ['euclidean','manhattan']}\n",
    "\n",
    "#Perform GridSearch\n",
    "model_knn = GridSearchCV(pipeline, parama, scoring='roc_auc')\n",
    "\n",
    "#Fit model on best parameters\n",
    "model_knn.fit(x_train, y_train)\n",
    "print(\"Best parameters set found on development set:\")\n",
    "display(model_knn.best_params_)\n",
    "\n",
    "# Make a set of predictions for the test data\n",
    "y_pred = model_knn.predict(x_test)\n",
    "\n",
    "# Print performance details\n",
    "accuracy = metrics.accuracy_score(y_test, y_pred) # , normalize=True, sample_weight=None\n",
    "Tfidf_model_accuracy[\"Health-Knn\"] = accuracy\n",
    "print(\"Accuracy: \" +  str(accuracy))\n",
    "print(metrics.classification_report(y_test, y_pred))\n",
    "\n",
    "# Print confusion matrix\n",
    "print(\"Confusion Matrix\")\n",
    "pd.crosstab(np.array(y_test), y_pred, rownames=['True'], colnames=['Predicted'], margins=True)"
   ]
  },
  {
   "cell_type": "markdown",
   "metadata": {},
   "source": [
    "5-fold cross validation"
   ]
  },
  {
   "cell_type": "code",
   "execution_count": 19,
   "metadata": {
    "colab": {
     "base_uri": "https://localhost:8080/",
     "height": 52
    },
    "colab_type": "code",
    "id": "0vjBuiGpMW3G",
    "outputId": "72b13610-e81f-4669-8efc-fb029521db39"
   },
   "outputs": [
    {
     "name": "stdout",
     "output_type": "stream",
     "text": [
      "Accuracy for 5 folds [0.80756014 0.81443299 0.84137931 0.83044983 0.80622837]\n",
      "Mean accuracy 0.820010127636927\n"
     ]
    }
   ],
   "source": [
    "#Classifier\n",
    "clf = KNeighborsClassifier(metric= \"euclidean\", n_neighbors= 11, weights= \"distance\")\n",
    "#Create pipeline\n",
    "pipeline = create_pipeline(clf,'Tfidf')\n",
    "#Perform 5 fold cross validation\n",
    "scores = cross_val_score(pipeline,health_reviews_ratings['review'],health_reviews_ratings['rating'] , cv=5)\n",
    "#Store the mean score \n",
    "Tfidf_model_accuracy_fold[\"Health-Knn\"] = scores.mean()\n",
    "\n",
    "print(\"Accuracy for 5 folds\",scores)\n",
    "print(\"Mean accuracy\",scores.mean())"
   ]
  },
  {
   "cell_type": "markdown",
   "metadata": {
    "colab_type": "text",
    "id": "HVOjDzJeMW3J"
   },
   "source": [
    "#### Classifier : Naive Bayes & Vectorizer : Tfidf"
   ]
  },
  {
   "cell_type": "markdown",
   "metadata": {},
   "source": [
    "Grid Search"
   ]
  },
  {
   "cell_type": "code",
   "execution_count": 20,
   "metadata": {
    "colab": {
     "base_uri": "https://localhost:8080/",
     "height": 397
    },
    "colab_type": "code",
    "id": "ncO47HamMW3K",
    "outputId": "e6eaf520-1eee-4b6f-cec7-7a065374856c"
   },
   "outputs": [
    {
     "name": "stdout",
     "output_type": "stream",
     "text": [
      "Best parameters set found on development set:\n"
     ]
    },
    {
     "data": {
      "text/plain": [
       "{'classifier': MultinomialNB(alpha=1.0, class_prior=None, fit_prior=True)}"
      ]
     },
     "metadata": {
      "tags": []
     },
     "output_type": "display_data"
    },
    {
     "name": "stdout",
     "output_type": "stream",
     "text": [
      "Accuracy: 0.8807339449541285\n",
      "              precision    recall  f1-score   support\n",
      "\n",
      "    negative       0.95      0.55      0.69       108\n",
      "    positive       0.87      0.99      0.93       328\n",
      "\n",
      "   micro avg       0.88      0.88      0.88       436\n",
      "   macro avg       0.91      0.77      0.81       436\n",
      "weighted avg       0.89      0.88      0.87       436\n",
      "\n",
      "Confusion Matrix\n"
     ]
    },
    {
     "data": {
      "text/html": [
       "<div>\n",
       "<style scoped>\n",
       "    .dataframe tbody tr th:only-of-type {\n",
       "        vertical-align: middle;\n",
       "    }\n",
       "\n",
       "    .dataframe tbody tr th {\n",
       "        vertical-align: top;\n",
       "    }\n",
       "\n",
       "    .dataframe thead th {\n",
       "        text-align: right;\n",
       "    }\n",
       "</style>\n",
       "<table border=\"1\" class=\"dataframe\">\n",
       "  <thead>\n",
       "    <tr style=\"text-align: right;\">\n",
       "      <th>Predicted</th>\n",
       "      <th>negative</th>\n",
       "      <th>positive</th>\n",
       "      <th>All</th>\n",
       "    </tr>\n",
       "    <tr>\n",
       "      <th>True</th>\n",
       "      <th></th>\n",
       "      <th></th>\n",
       "      <th></th>\n",
       "    </tr>\n",
       "  </thead>\n",
       "  <tbody>\n",
       "    <tr>\n",
       "      <th>negative</th>\n",
       "      <td>59</td>\n",
       "      <td>49</td>\n",
       "      <td>108</td>\n",
       "    </tr>\n",
       "    <tr>\n",
       "      <th>positive</th>\n",
       "      <td>3</td>\n",
       "      <td>325</td>\n",
       "      <td>328</td>\n",
       "    </tr>\n",
       "    <tr>\n",
       "      <th>All</th>\n",
       "      <td>62</td>\n",
       "      <td>374</td>\n",
       "      <td>436</td>\n",
       "    </tr>\n",
       "  </tbody>\n",
       "</table>\n",
       "</div>"
      ],
      "text/plain": [
       "Predicted  negative  positive  All\n",
       "True                              \n",
       "negative         59        49  108\n",
       "positive          3       325  328\n",
       "All              62       374  436"
      ]
     },
     "execution_count": 20,
     "metadata": {
      "tags": []
     },
     "output_type": "execute_result"
    }
   ],
   "source": [
    "#Create pipeline\n",
    "pipeline = create_pipeline(MultinomialNB(),'Tfidf')\n",
    "\n",
    "#Grid parameters\n",
    "parama = {'classifier': [MultinomialNB(),GaussianNB()]}\n",
    "\n",
    "#Perform GridSearch\n",
    "model_nb = GridSearchCV(pipeline, parama, scoring='roc_auc')\n",
    "\n",
    "#Fit model\n",
    "model_nb.fit(x_train, y_train)\n",
    "print(\"Best parameters set found on development set:\")\n",
    "display(model_nb.best_params_)\n",
    "\n",
    "# Make a set of predictions for the test data\n",
    "y_pred = model_nb.predict(x_test)\n",
    "\n",
    "\n",
    "\n",
    "# Print performance details\n",
    "accuracy = metrics.accuracy_score(y_test, y_pred) # , normalize=True, sample_weight=None\n",
    "Tfidf_model_accuracy[\"Health-NaiveBayes\"] = accuracy\n",
    "print(\"Accuracy: \" +  str(accuracy))\n",
    "print(metrics.classification_report(y_test, y_pred))\n",
    "\n",
    "# Print confusion matrix\n",
    "print(\"Confusion Matrix\")\n",
    "pd.crosstab(np.array(y_test), y_pred, rownames=['True'], colnames=['Predicted'], margins=True)"
   ]
  },
  {
   "cell_type": "markdown",
   "metadata": {},
   "source": [
    "5-fold cross validation"
   ]
  },
  {
   "cell_type": "code",
   "execution_count": 21,
   "metadata": {
    "colab": {
     "base_uri": "https://localhost:8080/",
     "height": 52
    },
    "colab_type": "code",
    "id": "5Te0VzKqMW3O",
    "outputId": "7fa7cc8b-13a4-4a21-c9c4-0fa192ba1762"
   },
   "outputs": [
    {
     "name": "stdout",
     "output_type": "stream",
     "text": [
      "Accuracy for 5 folds [0.87285223 0.89347079 0.85517241 0.84083045 0.85467128]\n",
      "Mean accuracy 0.8633994335903784\n"
     ]
    }
   ],
   "source": [
    "#Classifier\n",
    "clf = MultinomialNB(alpha=1.0, class_prior=None, fit_prior=True)\n",
    "#Create pipeline\n",
    "pipeline = create_pipeline(clf,'Tfidf')\n",
    "#Perform 5 fold cross validation\n",
    "scores = cross_val_score(pipeline,health_reviews_ratings['review'],health_reviews_ratings['rating'] , cv=5)\n",
    "#Store the mean score \n",
    "Tfidf_model_accuracy_fold[\"Health-NaiveBayes\"] = scores.mean()\n",
    "\n",
    "print(\"Accuracy for 5 folds\",scores)\n",
    "print(\"Mean accuracy\",scores.mean())"
   ]
  },
  {
   "cell_type": "markdown",
   "metadata": {
    "colab_type": "text",
    "id": "aeKcQar5MW3R"
   },
   "source": [
    "#### Classifier : SVM & Vectorizer : Tfidf"
   ]
  },
  {
   "cell_type": "markdown",
   "metadata": {},
   "source": [
    "Grid Search"
   ]
  },
  {
   "cell_type": "code",
   "execution_count": 22,
   "metadata": {
    "colab": {
     "base_uri": "https://localhost:8080/",
     "height": 397
    },
    "colab_type": "code",
    "id": "88GbiTgmMW3U",
    "outputId": "6d1cf9b9-b82f-456c-e980-d35bca57de64"
   },
   "outputs": [
    {
     "name": "stdout",
     "output_type": "stream",
     "text": [
      "Best parameters set found on development set:\n"
     ]
    },
    {
     "data": {
      "text/plain": [
       "{'classifier__C': 1, 'classifier__kernel': 'linear'}"
      ]
     },
     "metadata": {
      "tags": []
     },
     "output_type": "display_data"
    },
    {
     "name": "stdout",
     "output_type": "stream",
     "text": [
      "Accuracy: 0.9220183486238532\n",
      "              precision    recall  f1-score   support\n",
      "\n",
      "    negative       0.86      0.81      0.84       108\n",
      "    positive       0.94      0.96      0.95       328\n",
      "\n",
      "   micro avg       0.92      0.92      0.92       436\n",
      "   macro avg       0.90      0.89      0.89       436\n",
      "weighted avg       0.92      0.92      0.92       436\n",
      "\n",
      "Confusion Matrix\n"
     ]
    },
    {
     "data": {
      "text/html": [
       "<div>\n",
       "<style scoped>\n",
       "    .dataframe tbody tr th:only-of-type {\n",
       "        vertical-align: middle;\n",
       "    }\n",
       "\n",
       "    .dataframe tbody tr th {\n",
       "        vertical-align: top;\n",
       "    }\n",
       "\n",
       "    .dataframe thead th {\n",
       "        text-align: right;\n",
       "    }\n",
       "</style>\n",
       "<table border=\"1\" class=\"dataframe\">\n",
       "  <thead>\n",
       "    <tr style=\"text-align: right;\">\n",
       "      <th>Predicted</th>\n",
       "      <th>negative</th>\n",
       "      <th>positive</th>\n",
       "      <th>All</th>\n",
       "    </tr>\n",
       "    <tr>\n",
       "      <th>True</th>\n",
       "      <th></th>\n",
       "      <th></th>\n",
       "      <th></th>\n",
       "    </tr>\n",
       "  </thead>\n",
       "  <tbody>\n",
       "    <tr>\n",
       "      <th>negative</th>\n",
       "      <td>88</td>\n",
       "      <td>20</td>\n",
       "      <td>108</td>\n",
       "    </tr>\n",
       "    <tr>\n",
       "      <th>positive</th>\n",
       "      <td>14</td>\n",
       "      <td>314</td>\n",
       "      <td>328</td>\n",
       "    </tr>\n",
       "    <tr>\n",
       "      <th>All</th>\n",
       "      <td>102</td>\n",
       "      <td>334</td>\n",
       "      <td>436</td>\n",
       "    </tr>\n",
       "  </tbody>\n",
       "</table>\n",
       "</div>"
      ],
      "text/plain": [
       "Predicted  negative  positive  All\n",
       "True                              \n",
       "negative         88        20  108\n",
       "positive         14       314  328\n",
       "All             102       334  436"
      ]
     },
     "execution_count": 22,
     "metadata": {
      "tags": []
     },
     "output_type": "execute_result"
    }
   ],
   "source": [
    "#Create pipeline\n",
    "pipeline = create_pipeline(svm.SVC(),'Tfidf')\n",
    "#Grid parameters\n",
    "parama = {'classifier__kernel': ['linear'],\n",
    "           'classifier__C': [1, 10]}\n",
    "\n",
    "#Perform GridSearch\n",
    "model_svm = GridSearchCV(pipeline, parama, scoring='roc_auc')\n",
    "\n",
    "#Fit model\n",
    "model_svm.fit(x_train, y_train)\n",
    "print(\"Best parameters set found on development set:\")\n",
    "display(model_svm.best_params_)\n",
    "\n",
    "# Make a set of predictions for the test data\n",
    "y_pred = model_svm.predict(x_test)\n",
    "\n",
    "# Print performance details\n",
    "accuracy = metrics.accuracy_score(y_test, y_pred) # , normalize=True, sample_weight=None\n",
    "Tfidf_model_accuracy[\"Health-SVM\"] = accuracy\n",
    "print(\"Accuracy: \" +  str(accuracy))\n",
    "print(metrics.classification_report(y_test, y_pred))\n",
    "\n",
    "# Print confusion matrix\n",
    "print(\"Confusion Matrix\")\n",
    "pd.crosstab(np.array(y_test), y_pred, rownames=['True'], colnames=['Predicted'], margins=True)"
   ]
  },
  {
   "cell_type": "markdown",
   "metadata": {},
   "source": [
    "5-fold cross validation"
   ]
  },
  {
   "cell_type": "code",
   "execution_count": 23,
   "metadata": {
    "colab": {
     "base_uri": "https://localhost:8080/",
     "height": 52
    },
    "colab_type": "code",
    "id": "vXrK5GuqMW3X",
    "outputId": "e6cb8d49-4927-4d5b-8ed1-b315d6373517"
   },
   "outputs": [
    {
     "name": "stdout",
     "output_type": "stream",
     "text": [
      "Accuracy for 5 folds [0.91408935 0.91752577 0.89655172 0.89965398 0.88581315]\n",
      "Mean accuracy 0.9027267944881053\n"
     ]
    }
   ],
   "source": [
    "#Classifier\n",
    "clf = svm.SVC(C= 1, kernel='linear')\n",
    "#Create pipeline\n",
    "pipeline = create_pipeline(clf,'Tfidf')\n",
    "#Perform 5 fold cross validation\n",
    "scores = cross_val_score(pipeline,health_reviews_ratings['review'],health_reviews_ratings['rating'] , cv=5)\n",
    "#Store the mean score \n",
    "Tfidf_model_accuracy_fold[\"Health-SVM\"] = scores.mean()\n",
    "\n",
    "print(\"Accuracy for 5 folds\",scores)\n",
    "print(\"Mean accuracy\",scores.mean())"
   ]
  },
  {
   "cell_type": "markdown",
   "metadata": {},
   "source": [
    "Train Test Split Results"
   ]
  },
  {
   "cell_type": "code",
   "execution_count": 24,
   "metadata": {
    "colab": {
     "base_uri": "https://localhost:8080/",
     "height": 295
    },
    "colab_type": "code",
    "id": "TdLmXfs8MW3a",
    "outputId": "6df10f0c-3c53-4dd8-a215-1a302b98d6a8"
   },
   "outputs": [
    {
     "data": {
      "image/png": "[encoded data removed]",
      "text/plain": [
       "<Figure size 432x288 with 1 Axes>"
      ]
     },
     "metadata": {
      "tags": []
     },
     "output_type": "display_data"
    }
   ],
   "source": [
    "Tfidf_model_accuracy = sorted(Tfidf_model_accuracy.items(), key=operator.itemgetter(1),reverse=True)\n",
    "Tfidf_model_accuracy = dict(Tfidf_model_accuracy)\n",
    "\n",
    "plt.xlim(0, 1.0)\n",
    "_ = plt.barh(range(len(Tfidf_model_accuracy)), list(Tfidf_model_accuracy.values()), align='center')\n",
    "_ = plt.yticks(range(len(Tfidf_model_accuracy)), list(Tfidf_model_accuracy.keys()))\n",
    "_ = plt.xlabel('Accuracy')\n",
    "_ = plt.title('Accuracy for different classifier for both reviews')\n",
    "for i, v in enumerate(list(Tfidf_model_accuracy.values())):\n",
    "    a=round(v,2)\n",
    "    plt.text(v+0.01 , i , str(a), color='black', fontweight='bold')\n",
    "plt.show()\n"
   ]
  },
  {
   "cell_type": "markdown",
   "metadata": {},
   "source": [
    "5-fold cross validation results"
   ]
  },
  {
   "cell_type": "code",
   "execution_count": 25,
   "metadata": {
    "colab": {
     "base_uri": "https://localhost:8080/",
     "height": 295
    },
    "colab_type": "code",
    "id": "5ooDMOPpMW3e",
    "outputId": "b73da366-6084-458e-e15a-32fe4beb01b8"
   },
   "outputs": [
    {
     "data": {
      "image/png": "[encoded data removed]",
      "text/plain": [
       "<Figure size 432x288 with 1 Axes>"
      ]
     },
     "metadata": {
      "tags": []
     },
     "output_type": "display_data"
    }
   ],
   "source": [
    "Tfidf_model_accuracy_fold = sorted(Tfidf_model_accuracy_fold.items(), key=operator.itemgetter(1),reverse=True)\n",
    "Tfidf_model_accuracy_fold = dict(Tfidf_model_accuracy_fold)\n",
    "\n",
    "plt.xlim(0, 1.0)\n",
    "_ = plt.barh(range(len(Tfidf_model_accuracy_fold)), list(Tfidf_model_accuracy_fold.values()), align='center')\n",
    "_ = plt.yticks(range(len(Tfidf_model_accuracy_fold)), list(Tfidf_model_accuracy_fold.keys()))\n",
    "_ = plt.xlabel('Accuracy')\n",
    "_ = plt.title('Accuracy for different classifier for both reviews')\n",
    "for i, v in enumerate(list(Tfidf_model_accuracy_fold.values())):\n",
    "    a=round(v,2)\n",
    "    plt.text(v+0.01 , i , str(a), color='black', fontweight='bold')\n",
    "plt.show()\n"
   ]
  },
  {
   "cell_type": "markdown",
   "metadata": {
    "colab_type": "text",
    "id": "5SAFbVznMW3h"
   },
   "source": [
    "It can be observed from the above graph that accuracy of **SVM** model is good for both category of reviews with vectorizer  **Tfidf**"
   ]
  },
  {
   "cell_type": "markdown",
   "metadata": {
    "colab_type": "text",
    "id": "DStQfKI_MW3i"
   },
   "source": [
    "## Bag-of-Words"
   ]
  },
  {
   "cell_type": "markdown",
   "metadata": {
    "colab_type": "text",
    "id": "YZJvlTZyMW3i"
   },
   "source": [
    "### Category : Automotive"
   ]
  },
  {
   "cell_type": "markdown",
   "metadata": {
    "colab_type": "text",
    "id": "G9T-6Cg6MW3j"
   },
   "source": [
    "#### Classifier : K-nn & Vectorizer : CountVectorizer or Bag-of-Words"
   ]
  },
  {
   "cell_type": "markdown",
   "metadata": {},
   "source": [
    "Grid Search"
   ]
  },
  {
   "cell_type": "code",
   "execution_count": 26,
   "metadata": {
    "colab": {
     "base_uri": "https://localhost:8080/",
     "height": 431
    },
    "colab_type": "code",
    "id": "5Ly7_INZMW3j",
    "outputId": "2ee22af2-d03e-4e6e-84a3-c29c93ac2853"
   },
   "outputs": [
    {
     "name": "stdout",
     "output_type": "stream",
     "text": [
      "Best parameters set found on development set:\n"
     ]
    },
    {
     "data": {
      "text/plain": [
       "{'classifier__metric': 'manhattan',\n",
       " 'classifier__n_neighbors': 11,\n",
       " 'classifier__weights': 'distance'}"
      ]
     },
     "metadata": {
      "tags": []
     },
     "output_type": "display_data"
    },
    {
     "name": "stdout",
     "output_type": "stream",
     "text": [
      "Accuracy: 0.7368421052631579\n",
      "              precision    recall  f1-score   support\n",
      "\n",
      "    negative       0.86      0.18      0.29       135\n",
      "    positive       0.73      0.99      0.84       302\n",
      "\n",
      "   micro avg       0.74      0.74      0.74       437\n",
      "   macro avg       0.79      0.58      0.57       437\n",
      "weighted avg       0.77      0.74      0.67       437\n",
      "\n",
      "Confusion Matrix\n"
     ]
    },
    {
     "data": {
      "text/html": [
       "<div>\n",
       "<style scoped>\n",
       "    .dataframe tbody tr th:only-of-type {\n",
       "        vertical-align: middle;\n",
       "    }\n",
       "\n",
       "    .dataframe tbody tr th {\n",
       "        vertical-align: top;\n",
       "    }\n",
       "\n",
       "    .dataframe thead th {\n",
       "        text-align: right;\n",
       "    }\n",
       "</style>\n",
       "<table border=\"1\" class=\"dataframe\">\n",
       "  <thead>\n",
       "    <tr style=\"text-align: right;\">\n",
       "      <th>Predicted</th>\n",
       "      <th>negative</th>\n",
       "      <th>positive</th>\n",
       "      <th>All</th>\n",
       "    </tr>\n",
       "    <tr>\n",
       "      <th>True</th>\n",
       "      <th></th>\n",
       "      <th></th>\n",
       "      <th></th>\n",
       "    </tr>\n",
       "  </thead>\n",
       "  <tbody>\n",
       "    <tr>\n",
       "      <th>negative</th>\n",
       "      <td>24</td>\n",
       "      <td>111</td>\n",
       "      <td>135</td>\n",
       "    </tr>\n",
       "    <tr>\n",
       "      <th>positive</th>\n",
       "      <td>4</td>\n",
       "      <td>298</td>\n",
       "      <td>302</td>\n",
       "    </tr>\n",
       "    <tr>\n",
       "      <th>All</th>\n",
       "      <td>28</td>\n",
       "      <td>409</td>\n",
       "      <td>437</td>\n",
       "    </tr>\n",
       "  </tbody>\n",
       "</table>\n",
       "</div>"
      ],
      "text/plain": [
       "Predicted  negative  positive  All\n",
       "True                              \n",
       "negative         24       111  135\n",
       "positive          4       298  302\n",
       "All              28       409  437"
      ]
     },
     "execution_count": 26,
     "metadata": {
      "tags": []
     },
     "output_type": "execute_result"
    }
   ],
   "source": [
    "#Split the data \n",
    "x_train, x_test, y_train, y_test = train_test_split(automotive_reviews_ratings['review'],automotive_reviews_ratings['rating'],train_size=0.7)\n",
    "\n",
    "#create pipeline\n",
    "pipeline = create_pipeline(KNeighborsClassifier(),'BOW')\n",
    "#Grid parameters\n",
    "parama = {'classifier__n_neighbors': [3,4,6,9,11],\n",
    "           'classifier__weights': ['uniform','distance'],\n",
    "           'classifier__metric': ['euclidean','manhattan']}\n",
    "\n",
    "#Perform GridSearch\n",
    "model_knn = GridSearchCV(pipeline, parama, scoring='roc_auc')\n",
    "\n",
    "#Fit model\n",
    "model_knn.fit(x_train, y_train)\n",
    "print(\"Best parameters set found on development set:\")\n",
    "display(model_knn.best_params_)\n",
    "\n",
    "# Make a set of predictions for the test data\n",
    "y_pred = model_knn.predict(x_test)\n",
    "\n",
    "# Print performance details\n",
    "accuracy = metrics.accuracy_score(y_test, y_pred) # , normalize=True, sample_weight=None\n",
    "BOW_model_accuracy[\"Automotive-Knn\"] = accuracy\n",
    "print(\"Accuracy: \" +  str(accuracy))\n",
    "print(metrics.classification_report(y_test, y_pred))\n",
    "\n",
    "# Print confusion matrix\n",
    "print(\"Confusion Matrix\")\n",
    "pd.crosstab(np.array(y_test), y_pred, rownames=['True'], colnames=['Predicted'], margins=True)"
   ]
  },
  {
   "cell_type": "markdown",
   "metadata": {},
   "source": [
    "5-fold cross validation"
   ]
  },
  {
   "cell_type": "code",
   "execution_count": 27,
   "metadata": {
    "colab": {
     "base_uri": "https://localhost:8080/",
     "height": 52
    },
    "colab_type": "code",
    "id": "eYPHqCqmMW3m",
    "outputId": "bafc6b70-cb33-4099-9ee3-4fc297a379ef"
   },
   "outputs": [
    {
     "name": "stdout",
     "output_type": "stream",
     "text": [
      "Accuracy for 5 folds [0.69520548 0.73287671 0.72164948 0.72758621 0.71724138]\n",
      "Mean accuracy 0.7189118525047602\n"
     ]
    }
   ],
   "source": [
    "#Classifier\n",
    "clf = KNeighborsClassifier(metric= \"manhattan\", n_neighbors= 11, weights= \"distance\")\n",
    "#Create pipeline\n",
    "pipeline = create_pipeline(clf,'BOW')\n",
    "#Perform 5 fold cross validation\n",
    "scores = cross_val_score(pipeline,automotive_reviews_ratings['review'],automotive_reviews_ratings['rating'] , cv=5)\n",
    "#Store the mean score \n",
    "BOW_model_accuracy_fold[\"Automotive-Knn\"] = scores.mean()\n",
    "\n",
    "print(\"Accuracy for 5 folds\",scores)\n",
    "print(\"Mean accuracy\",scores.mean())"
   ]
  },
  {
   "cell_type": "markdown",
   "metadata": {
    "colab_type": "text",
    "id": "EPt-pJG3MW3o"
   },
   "source": [
    "#### Classifier : Naive Bayes & Vectorizer : CountVectorizer or Bag-of-Words"
   ]
  },
  {
   "cell_type": "markdown",
   "metadata": {},
   "source": [
    "Grid Search"
   ]
  },
  {
   "cell_type": "code",
   "execution_count": 28,
   "metadata": {
    "colab": {
     "base_uri": "https://localhost:8080/",
     "height": 397
    },
    "colab_type": "code",
    "id": "cIhXIjgrMW3p",
    "outputId": "3351b762-d168-4726-970a-38f8777ebde8"
   },
   "outputs": [
    {
     "name": "stdout",
     "output_type": "stream",
     "text": [
      "Best parameters set found on development set:\n"
     ]
    },
    {
     "data": {
      "text/plain": [
       "{'classifier': MultinomialNB(alpha=1.0, class_prior=None, fit_prior=True)}"
      ]
     },
     "metadata": {
      "tags": []
     },
     "output_type": "display_data"
    },
    {
     "name": "stdout",
     "output_type": "stream",
     "text": [
      "Accuracy: 0.919908466819222\n",
      "              precision    recall  f1-score   support\n",
      "\n",
      "    negative       0.87      0.87      0.87       135\n",
      "    positive       0.94      0.94      0.94       302\n",
      "\n",
      "   micro avg       0.92      0.92      0.92       437\n",
      "   macro avg       0.91      0.91      0.91       437\n",
      "weighted avg       0.92      0.92      0.92       437\n",
      "\n",
      "Confusion Matrix\n"
     ]
    },
    {
     "data": {
      "text/html": [
       "<div>\n",
       "<style scoped>\n",
       "    .dataframe tbody tr th:only-of-type {\n",
       "        vertical-align: middle;\n",
       "    }\n",
       "\n",
       "    .dataframe tbody tr th {\n",
       "        vertical-align: top;\n",
       "    }\n",
       "\n",
       "    .dataframe thead th {\n",
       "        text-align: right;\n",
       "    }\n",
       "</style>\n",
       "<table border=\"1\" class=\"dataframe\">\n",
       "  <thead>\n",
       "    <tr style=\"text-align: right;\">\n",
       "      <th>Predicted</th>\n",
       "      <th>negative</th>\n",
       "      <th>positive</th>\n",
       "      <th>All</th>\n",
       "    </tr>\n",
       "    <tr>\n",
       "      <th>True</th>\n",
       "      <th></th>\n",
       "      <th></th>\n",
       "      <th></th>\n",
       "    </tr>\n",
       "  </thead>\n",
       "  <tbody>\n",
       "    <tr>\n",
       "      <th>negative</th>\n",
       "      <td>118</td>\n",
       "      <td>17</td>\n",
       "      <td>135</td>\n",
       "    </tr>\n",
       "    <tr>\n",
       "      <th>positive</th>\n",
       "      <td>18</td>\n",
       "      <td>284</td>\n",
       "      <td>302</td>\n",
       "    </tr>\n",
       "    <tr>\n",
       "      <th>All</th>\n",
       "      <td>136</td>\n",
       "      <td>301</td>\n",
       "      <td>437</td>\n",
       "    </tr>\n",
       "  </tbody>\n",
       "</table>\n",
       "</div>"
      ],
      "text/plain": [
       "Predicted  negative  positive  All\n",
       "True                              \n",
       "negative        118        17  135\n",
       "positive         18       284  302\n",
       "All             136       301  437"
      ]
     },
     "execution_count": 28,
     "metadata": {
      "tags": []
     },
     "output_type": "execute_result"
    }
   ],
   "source": [
    "#Create pipeline\n",
    "pipeline = create_pipeline(MultinomialNB(),'BOW')\n",
    "\n",
    "#Grid Parameters\n",
    "parama = {'classifier': [MultinomialNB(),GaussianNB()]}\n",
    "\n",
    "#Perform GridSearch\n",
    "model_nb = GridSearchCV(pipeline, parama, scoring='roc_auc')\n",
    "\n",
    "#Fit the model\n",
    "model_nb.fit(x_train, y_train)\n",
    "print(\"Best parameters set found on development set:\")\n",
    "display(model_nb.best_params_)\n",
    "\n",
    "# Make a set of predictions for the test data\n",
    "y_pred = model_nb.predict(x_test)\n",
    "\n",
    "# Print performance details\n",
    "accuracy = metrics.accuracy_score(y_test, y_pred) # , normalize=True, sample_weight=None\n",
    "BOW_model_accuracy[\"Automotive-NaiveBayes\"] = accuracy\n",
    "print(\"Accuracy: \" +  str(accuracy))\n",
    "print(metrics.classification_report(y_test, y_pred))\n",
    "\n",
    "# Print confusion matrix\n",
    "print(\"Confusion Matrix\")\n",
    "pd.crosstab(np.array(y_test), y_pred, rownames=['True'], colnames=['Predicted'], margins=True)"
   ]
  },
  {
   "cell_type": "markdown",
   "metadata": {},
   "source": [
    "5-fold cross validation"
   ]
  },
  {
   "cell_type": "code",
   "execution_count": 29,
   "metadata": {
    "colab": {
     "base_uri": "https://localhost:8080/",
     "height": 52
    },
    "colab_type": "code",
    "id": "WcsFRG7SMW3s",
    "outputId": "2f71319b-9a09-4977-9f63-701b983aa2e7"
   },
   "outputs": [
    {
     "name": "stdout",
     "output_type": "stream",
     "text": [
      "Accuracy for 5 folds [0.89726027 0.91438356 0.84536082 0.87586207 0.89655172]\n",
      "Mean accuracy 0.885883690692431\n"
     ]
    }
   ],
   "source": [
    "#Classifier\n",
    "clf = MultinomialNB(alpha=1.0, class_prior=None, fit_prior=True)\n",
    "#Create pipeline\n",
    "pipeline = create_pipeline(clf,'BOW')\n",
    "#Perform 5 fold cross validation\n",
    "scores = cross_val_score(pipeline,automotive_reviews_ratings['review'],automotive_reviews_ratings['rating'] , cv=5)\n",
    "#Store the mean score \n",
    "BOW_model_accuracy_fold[\"Automotive-NaiveBayes\"] = scores.mean()\n",
    "\n",
    "print(\"Accuracy for 5 folds\",scores)\n",
    "print(\"Mean accuracy\",scores.mean())"
   ]
  },
  {
   "cell_type": "markdown",
   "metadata": {
    "colab_type": "text",
    "id": "W7ClXWtkMW3v"
   },
   "source": [
    "#### Classifier : SVM& Vectorizer : CountVectorizer or Bag-of-Words"
   ]
  },
  {
   "cell_type": "markdown",
   "metadata": {},
   "source": [
    "Grid Search"
   ]
  },
  {
   "cell_type": "code",
   "execution_count": 30,
   "metadata": {
    "colab": {
     "base_uri": "https://localhost:8080/",
     "height": 397
    },
    "colab_type": "code",
    "id": "o64-jWB7MW3w",
    "outputId": "bf3d6607-730c-485e-ca04-54c83348a958",
    "scrolled": true
   },
   "outputs": [
    {
     "name": "stdout",
     "output_type": "stream",
     "text": [
      "Best parameters set found on development set:\n"
     ]
    },
    {
     "data": {
      "text/plain": [
       "{'classifier__C': 1, 'classifier__kernel': 'linear'}"
      ]
     },
     "metadata": {
      "tags": []
     },
     "output_type": "display_data"
    },
    {
     "name": "stdout",
     "output_type": "stream",
     "text": [
      "Accuracy: 0.8901601830663616\n",
      "              precision    recall  f1-score   support\n",
      "\n",
      "    negative       0.82      0.83      0.82       135\n",
      "    positive       0.92      0.92      0.92       302\n",
      "\n",
      "   micro avg       0.89      0.89      0.89       437\n",
      "   macro avg       0.87      0.87      0.87       437\n",
      "weighted avg       0.89      0.89      0.89       437\n",
      "\n",
      "Confusion Matrix\n"
     ]
    },
    {
     "data": {
      "text/html": [
       "<div>\n",
       "<style scoped>\n",
       "    .dataframe tbody tr th:only-of-type {\n",
       "        vertical-align: middle;\n",
       "    }\n",
       "\n",
       "    .dataframe tbody tr th {\n",
       "        vertical-align: top;\n",
       "    }\n",
       "\n",
       "    .dataframe thead th {\n",
       "        text-align: right;\n",
       "    }\n",
       "</style>\n",
       "<table border=\"1\" class=\"dataframe\">\n",
       "  <thead>\n",
       "    <tr style=\"text-align: right;\">\n",
       "      <th>Predicted</th>\n",
       "      <th>negative</th>\n",
       "      <th>positive</th>\n",
       "      <th>All</th>\n",
       "    </tr>\n",
       "    <tr>\n",
       "      <th>True</th>\n",
       "      <th></th>\n",
       "      <th></th>\n",
       "      <th></th>\n",
       "    </tr>\n",
       "  </thead>\n",
       "  <tbody>\n",
       "    <tr>\n",
       "      <th>negative</th>\n",
       "      <td>112</td>\n",
       "      <td>23</td>\n",
       "      <td>135</td>\n",
       "    </tr>\n",
       "    <tr>\n",
       "      <th>positive</th>\n",
       "      <td>25</td>\n",
       "      <td>277</td>\n",
       "      <td>302</td>\n",
       "    </tr>\n",
       "    <tr>\n",
       "      <th>All</th>\n",
       "      <td>137</td>\n",
       "      <td>300</td>\n",
       "      <td>437</td>\n",
       "    </tr>\n",
       "  </tbody>\n",
       "</table>\n",
       "</div>"
      ],
      "text/plain": [
       "Predicted  negative  positive  All\n",
       "True                              \n",
       "negative        112        23  135\n",
       "positive         25       277  302\n",
       "All             137       300  437"
      ]
     },
     "execution_count": 30,
     "metadata": {
      "tags": []
     },
     "output_type": "execute_result"
    }
   ],
   "source": [
    "#Create Pipeline\n",
    "pipeline = create_pipeline(svm.SVC(),'BOW')\n",
    "#Grid parameters\n",
    "parama = {'classifier__kernel': ['linear'],\n",
    "           'classifier__C': [1, 10]}\n",
    "\n",
    "#Perform GridSearch\n",
    "model_svm = GridSearchCV(pipeline, parama, scoring='roc_auc')\n",
    "\n",
    "#Fit the model\n",
    "model_svm.fit(x_train, y_train)\n",
    "print(\"Best parameters set found on development set:\")\n",
    "display(model_svm.best_params_)\n",
    "\n",
    "# Make a set of predictions for the test data\n",
    "y_pred = model_svm.predict(x_test)\n",
    "\n",
    "# Print performance details\n",
    "accuracy = metrics.accuracy_score(y_test, y_pred) # , normalize=True, sample_weight=None\n",
    "BOW_model_accuracy[\"Automotive-SVM\"] = accuracy\n",
    "print(\"Accuracy: \" +  str(accuracy))\n",
    "print(metrics.classification_report(y_test, y_pred))\n",
    "\n",
    "# Print confusion matrix\n",
    "print(\"Confusion Matrix\")\n",
    "pd.crosstab(np.array(y_test), y_pred, rownames=['True'], colnames=['Predicted'], margins=True)"
   ]
  },
  {
   "cell_type": "markdown",
   "metadata": {},
   "source": [
    "5-fold cross validation"
   ]
  },
  {
   "cell_type": "code",
   "execution_count": 31,
   "metadata": {
    "colab": {
     "base_uri": "https://localhost:8080/",
     "height": 52
    },
    "colab_type": "code",
    "id": "Plo7ZgWvMW3z",
    "outputId": "26e29538-510f-419b-92d2-9bdef811740b"
   },
   "outputs": [
    {
     "name": "stdout",
     "output_type": "stream",
     "text": [
      "Accuracy for 5 folds [0.85273973 0.84589041 0.86254296 0.84827586 0.86896552]\n",
      "Mean accuracy 0.8556828943246213\n"
     ]
    }
   ],
   "source": [
    "#Classifier\n",
    "clf = svm.SVC(C= 1, kernel='linear')\n",
    "#Create pipeline\n",
    "pipeline = create_pipeline(clf,'BOW')\n",
    "#Perform 5 fold cross validation\n",
    "scores = cross_val_score(pipeline,automotive_reviews_ratings['review'],automotive_reviews_ratings['rating'] , cv=5)\n",
    "#Store the mean score \n",
    "BOW_model_accuracy_fold[\"Automotive-SVM\"] = scores.mean()\n",
    "\n",
    "print(\"Accuracy for 5 folds\",scores)\n",
    "print(\"Mean accuracy\",scores.mean())"
   ]
  },
  {
   "cell_type": "markdown",
   "metadata": {
    "colab_type": "text",
    "id": "qHOo6BQZMW34"
   },
   "source": [
    "### Category : Health and Science"
   ]
  },
  {
   "cell_type": "markdown",
   "metadata": {
    "colab_type": "text",
    "id": "MuZR9N--MW34"
   },
   "source": [
    "#### Classifier : K-nn & Vectorizer : CountVectorizer or Bag-of-Words"
   ]
  },
  {
   "cell_type": "markdown",
   "metadata": {},
   "source": [
    "Grid Search"
   ]
  },
  {
   "cell_type": "code",
   "execution_count": 32,
   "metadata": {
    "colab": {
     "base_uri": "https://localhost:8080/",
     "height": 431
    },
    "colab_type": "code",
    "id": "bLih1YO1MW35",
    "outputId": "37031c01-a359-42b5-df05-e402163e2cfa"
   },
   "outputs": [
    {
     "name": "stdout",
     "output_type": "stream",
     "text": [
      "Best parameters set found on development set:\n"
     ]
    },
    {
     "data": {
      "text/plain": [
       "{'classifier__metric': 'manhattan',\n",
       " 'classifier__n_neighbors': 11,\n",
       " 'classifier__weights': 'distance'}"
      ]
     },
     "metadata": {
      "tags": []
     },
     "output_type": "display_data"
    },
    {
     "name": "stdout",
     "output_type": "stream",
     "text": [
      "Accuracy: 0.7247706422018348\n",
      "              precision    recall  f1-score   support\n",
      "\n",
      "    negative       0.82      0.07      0.13       127\n",
      "    positive       0.72      0.99      0.84       309\n",
      "\n",
      "   micro avg       0.72      0.72      0.72       436\n",
      "   macro avg       0.77      0.53      0.48       436\n",
      "weighted avg       0.75      0.72      0.63       436\n",
      "\n",
      "Confusion Matrix\n"
     ]
    },
    {
     "data": {
      "text/html": [
       "<div>\n",
       "<style scoped>\n",
       "    .dataframe tbody tr th:only-of-type {\n",
       "        vertical-align: middle;\n",
       "    }\n",
       "\n",
       "    .dataframe tbody tr th {\n",
       "        vertical-align: top;\n",
       "    }\n",
       "\n",
       "    .dataframe thead th {\n",
       "        text-align: right;\n",
       "    }\n",
       "</style>\n",
       "<table border=\"1\" class=\"dataframe\">\n",
       "  <thead>\n",
       "    <tr style=\"text-align: right;\">\n",
       "      <th>Predicted</th>\n",
       "      <th>negative</th>\n",
       "      <th>positive</th>\n",
       "      <th>All</th>\n",
       "    </tr>\n",
       "    <tr>\n",
       "      <th>True</th>\n",
       "      <th></th>\n",
       "      <th></th>\n",
       "      <th></th>\n",
       "    </tr>\n",
       "  </thead>\n",
       "  <tbody>\n",
       "    <tr>\n",
       "      <th>negative</th>\n",
       "      <td>9</td>\n",
       "      <td>118</td>\n",
       "      <td>127</td>\n",
       "    </tr>\n",
       "    <tr>\n",
       "      <th>positive</th>\n",
       "      <td>2</td>\n",
       "      <td>307</td>\n",
       "      <td>309</td>\n",
       "    </tr>\n",
       "    <tr>\n",
       "      <th>All</th>\n",
       "      <td>11</td>\n",
       "      <td>425</td>\n",
       "      <td>436</td>\n",
       "    </tr>\n",
       "  </tbody>\n",
       "</table>\n",
       "</div>"
      ],
      "text/plain": [
       "Predicted  negative  positive  All\n",
       "True                              \n",
       "negative          9       118  127\n",
       "positive          2       307  309\n",
       "All              11       425  436"
      ]
     },
     "execution_count": 32,
     "metadata": {
      "tags": []
     },
     "output_type": "execute_result"
    }
   ],
   "source": [
    "#Split data \n",
    "x_train, x_test, y_train, y_test = train_test_split(health_reviews_ratings['review'],health_reviews_ratings['rating'],train_size=0.7)\n",
    "\n",
    "#Create Pipline\n",
    "pipeline = create_pipeline(KNeighborsClassifier(),'BOW')\n",
    "#Grid Parameters\n",
    "parama = {'classifier__n_neighbors': [3,4,6,9,11],\n",
    "           'classifier__weights': ['uniform','distance'],\n",
    "           'classifier__metric': ['euclidean','manhattan']}\n",
    "\n",
    "#Perform GridSearch\n",
    "model_knn = GridSearchCV(pipeline, parama, scoring='roc_auc')\n",
    "\n",
    "#Fit the model\n",
    "model_knn.fit(x_train, y_train)\n",
    "print(\"Best parameters set found on development set:\")\n",
    "display(model_knn.best_params_)\n",
    "\n",
    "# Make a set of predictions for the test data\n",
    "y_pred = model_knn.predict(x_test)\n",
    "\n",
    "# Print performance details\n",
    "accuracy = metrics.accuracy_score(y_test, y_pred) # , normalize=True, sample_weight=None\n",
    "BOW_model_accuracy[\"Health-Knn\"] = accuracy\n",
    "print(\"Accuracy: \" +  str(accuracy))\n",
    "print(metrics.classification_report(y_test, y_pred))\n",
    "\n",
    "# Print confusion matrix\n",
    "print(\"Confusion Matrix\")\n",
    "pd.crosstab(np.array(y_test), y_pred, rownames=['True'], colnames=['Predicted'], margins=True)"
   ]
  },
  {
   "cell_type": "markdown",
   "metadata": {},
   "source": [
    "5-fold cross validation"
   ]
  },
  {
   "cell_type": "code",
   "execution_count": 33,
   "metadata": {
    "colab": {
     "base_uri": "https://localhost:8080/",
     "height": 52
    },
    "colab_type": "code",
    "id": "h3JpwcZiMW38",
    "outputId": "ab55d0a1-e9ba-4332-bd17-6b1e4e6b78d7"
   },
   "outputs": [
    {
     "name": "stdout",
     "output_type": "stream",
     "text": [
      "Accuracy for 5 folds [0.74226804 0.73883162 0.73103448 0.76124567 0.74740484]\n",
      "Mean accuracy 0.7441569316294302\n"
     ]
    }
   ],
   "source": [
    "#Classifier\n",
    "clf = KNeighborsClassifier(metric= \"euclidean\", n_neighbors= 11, weights= \"distance\")\n",
    "#Create pipeline\n",
    "pipeline = create_pipeline(clf,'BOW')\n",
    "#Perform 5 fold cross validation\n",
    "scores = cross_val_score(pipeline,health_reviews_ratings['review'],health_reviews_ratings['rating'] , cv=5)\n",
    "#Store the mean score \n",
    "BOW_model_accuracy_fold[\"Health-Knn\"] = scores.mean()\n",
    "\n",
    "print(\"Accuracy for 5 folds\",scores)\n",
    "print(\"Mean accuracy\",scores.mean())"
   ]
  },
  {
   "cell_type": "markdown",
   "metadata": {
    "colab_type": "text",
    "id": "CMJsbKciMW4G"
   },
   "source": [
    "#### Classifier : Naive Bayes & Vectorizer : CountVectorizer or Bag-of-Words"
   ]
  },
  {
   "cell_type": "markdown",
   "metadata": {},
   "source": [
    "Grid Search"
   ]
  },
  {
   "cell_type": "code",
   "execution_count": 34,
   "metadata": {
    "colab": {
     "base_uri": "https://localhost:8080/",
     "height": 397
    },
    "colab_type": "code",
    "id": "YvKxqdRNMW4G",
    "outputId": "7e3d2d18-b057-4fa0-91d5-e8aa432d39c1"
   },
   "outputs": [
    {
     "name": "stdout",
     "output_type": "stream",
     "text": [
      "Best parameters set found on development set:\n"
     ]
    },
    {
     "data": {
      "text/plain": [
       "{'classifier': MultinomialNB(alpha=1.0, class_prior=None, fit_prior=True)}"
      ]
     },
     "metadata": {
      "tags": []
     },
     "output_type": "display_data"
    },
    {
     "name": "stdout",
     "output_type": "stream",
     "text": [
      "Accuracy: 0.9105504587155964\n",
      "              precision    recall  f1-score   support\n",
      "\n",
      "    negative       0.83      0.87      0.85       127\n",
      "    positive       0.94      0.93      0.94       309\n",
      "\n",
      "   micro avg       0.91      0.91      0.91       436\n",
      "   macro avg       0.89      0.90      0.89       436\n",
      "weighted avg       0.91      0.91      0.91       436\n",
      "\n",
      "Confusion Matrix\n"
     ]
    },
    {
     "data": {
      "text/html": [
       "<div>\n",
       "<style scoped>\n",
       "    .dataframe tbody tr th:only-of-type {\n",
       "        vertical-align: middle;\n",
       "    }\n",
       "\n",
       "    .dataframe tbody tr th {\n",
       "        vertical-align: top;\n",
       "    }\n",
       "\n",
       "    .dataframe thead th {\n",
       "        text-align: right;\n",
       "    }\n",
       "</style>\n",
       "<table border=\"1\" class=\"dataframe\">\n",
       "  <thead>\n",
       "    <tr style=\"text-align: right;\">\n",
       "      <th>Predicted</th>\n",
       "      <th>negative</th>\n",
       "      <th>positive</th>\n",
       "      <th>All</th>\n",
       "    </tr>\n",
       "    <tr>\n",
       "      <th>True</th>\n",
       "      <th></th>\n",
       "      <th></th>\n",
       "      <th></th>\n",
       "    </tr>\n",
       "  </thead>\n",
       "  <tbody>\n",
       "    <tr>\n",
       "      <th>negative</th>\n",
       "      <td>110</td>\n",
       "      <td>17</td>\n",
       "      <td>127</td>\n",
       "    </tr>\n",
       "    <tr>\n",
       "      <th>positive</th>\n",
       "      <td>22</td>\n",
       "      <td>287</td>\n",
       "      <td>309</td>\n",
       "    </tr>\n",
       "    <tr>\n",
       "      <th>All</th>\n",
       "      <td>132</td>\n",
       "      <td>304</td>\n",
       "      <td>436</td>\n",
       "    </tr>\n",
       "  </tbody>\n",
       "</table>\n",
       "</div>"
      ],
      "text/plain": [
       "Predicted  negative  positive  All\n",
       "True                              \n",
       "negative        110        17  127\n",
       "positive         22       287  309\n",
       "All             132       304  436"
      ]
     },
     "execution_count": 34,
     "metadata": {
      "tags": []
     },
     "output_type": "execute_result"
    }
   ],
   "source": [
    "pipeline = create_pipeline(MultinomialNB(),'BOW')\n",
    "\n",
    "\n",
    "parama = {'classifier': [MultinomialNB(),GaussianNB()]}\n",
    "\n",
    "\n",
    "model_nb = GridSearchCV(pipeline, parama, scoring='roc_auc')\n",
    "model_nb.fit(x_train, y_train)\n",
    "print(\"Best parameters set found on development set:\")\n",
    "display(model_nb.best_params_)\n",
    "\n",
    "# Make a set of predictions for the test data\n",
    "y_pred = model_nb.predict(x_test)\n",
    "\n",
    "\n",
    "\n",
    "# Print performance details\n",
    "accuracy = metrics.accuracy_score(y_test, y_pred) # , normalize=True, sample_weight=None\n",
    "BOW_model_accuracy[\"Health-NaiveBayes\"] = accuracy\n",
    "print(\"Accuracy: \" +  str(accuracy))\n",
    "print(metrics.classification_report(y_test, y_pred))\n",
    "\n",
    "# Print confusion matrix\n",
    "print(\"Confusion Matrix\")\n",
    "pd.crosstab(np.array(y_test), y_pred, rownames=['True'], colnames=['Predicted'], margins=True)"
   ]
  },
  {
   "cell_type": "markdown",
   "metadata": {},
   "source": [
    "5-fold cross validation"
   ]
  },
  {
   "cell_type": "code",
   "execution_count": 35,
   "metadata": {
    "colab": {
     "base_uri": "https://localhost:8080/",
     "height": 52
    },
    "colab_type": "code",
    "id": "KEILcBMmMW4K",
    "outputId": "49cea0fa-8202-4649-c393-8cf077a214c4"
   },
   "outputs": [
    {
     "name": "stdout",
     "output_type": "stream",
     "text": [
      "Accuracy for 5 folds [0.91752577 0.91065292 0.9137931  0.89619377 0.85467128]\n",
      "Mean accuracy 0.8985673699018932\n"
     ]
    }
   ],
   "source": [
    "#Classifier\n",
    "clf = MultinomialNB(alpha=1.0, class_prior=None, fit_prior=True)\n",
    "#Create pipeline\n",
    "pipeline = create_pipeline(clf,'BOW')\n",
    "#Perform 5 fold cross validation\n",
    "scores = cross_val_score(pipeline,health_reviews_ratings['review'],health_reviews_ratings['rating'] , cv=5)\n",
    "#Store the mean score \n",
    "BOW_model_accuracy_fold[\"Health-NaiveBayes\"] = scores.mean()\n",
    "\n",
    "print(\"Accuracy for 5 folds\",scores)\n",
    "print(\"Mean accuracy\",scores.mean())"
   ]
  },
  {
   "cell_type": "markdown",
   "metadata": {
    "colab_type": "text",
    "id": "N3mK4Yp0MW4P"
   },
   "source": [
    "#### Classifier : SVM& Vectorizer : CountVectorizer or Bag-of-Words"
   ]
  },
  {
   "cell_type": "markdown",
   "metadata": {},
   "source": [
    "Grid Search"
   ]
  },
  {
   "cell_type": "code",
   "execution_count": 36,
   "metadata": {
    "colab": {
     "base_uri": "https://localhost:8080/",
     "height": 397
    },
    "colab_type": "code",
    "id": "pn99nqHUMW4P",
    "outputId": "dea81529-1172-4958-bdf4-dc35628f23da"
   },
   "outputs": [
    {
     "name": "stdout",
     "output_type": "stream",
     "text": [
      "Best parameters set found on development set:\n"
     ]
    },
    {
     "data": {
      "text/plain": [
       "{'classifier__C': 1, 'classifier__kernel': 'linear'}"
      ]
     },
     "metadata": {
      "tags": []
     },
     "output_type": "display_data"
    },
    {
     "name": "stdout",
     "output_type": "stream",
     "text": [
      "Accuracy: 0.9128440366972477\n",
      "              precision    recall  f1-score   support\n",
      "\n",
      "    negative       0.84      0.87      0.85       127\n",
      "    positive       0.94      0.93      0.94       309\n",
      "\n",
      "   micro avg       0.91      0.91      0.91       436\n",
      "   macro avg       0.89      0.90      0.90       436\n",
      "weighted avg       0.91      0.91      0.91       436\n",
      "\n",
      "Confusion Matrix\n"
     ]
    },
    {
     "data": {
      "text/html": [
       "<div>\n",
       "<style scoped>\n",
       "    .dataframe tbody tr th:only-of-type {\n",
       "        vertical-align: middle;\n",
       "    }\n",
       "\n",
       "    .dataframe tbody tr th {\n",
       "        vertical-align: top;\n",
       "    }\n",
       "\n",
       "    .dataframe thead th {\n",
       "        text-align: right;\n",
       "    }\n",
       "</style>\n",
       "<table border=\"1\" class=\"dataframe\">\n",
       "  <thead>\n",
       "    <tr style=\"text-align: right;\">\n",
       "      <th>Predicted</th>\n",
       "      <th>negative</th>\n",
       "      <th>positive</th>\n",
       "      <th>All</th>\n",
       "    </tr>\n",
       "    <tr>\n",
       "      <th>True</th>\n",
       "      <th></th>\n",
       "      <th></th>\n",
       "      <th></th>\n",
       "    </tr>\n",
       "  </thead>\n",
       "  <tbody>\n",
       "    <tr>\n",
       "      <th>negative</th>\n",
       "      <td>110</td>\n",
       "      <td>17</td>\n",
       "      <td>127</td>\n",
       "    </tr>\n",
       "    <tr>\n",
       "      <th>positive</th>\n",
       "      <td>21</td>\n",
       "      <td>288</td>\n",
       "      <td>309</td>\n",
       "    </tr>\n",
       "    <tr>\n",
       "      <th>All</th>\n",
       "      <td>131</td>\n",
       "      <td>305</td>\n",
       "      <td>436</td>\n",
       "    </tr>\n",
       "  </tbody>\n",
       "</table>\n",
       "</div>"
      ],
      "text/plain": [
       "Predicted  negative  positive  All\n",
       "True                              \n",
       "negative        110        17  127\n",
       "positive         21       288  309\n",
       "All             131       305  436"
      ]
     },
     "execution_count": 36,
     "metadata": {
      "tags": []
     },
     "output_type": "execute_result"
    }
   ],
   "source": [
    "pipeline = create_pipeline(svm.SVC(),'BOW')\n",
    "\n",
    "parama = {'classifier__kernel': ['linear'],\n",
    "           'classifier__C': [1, 10]}\n",
    "\n",
    "\n",
    "model_svm = GridSearchCV(pipeline, parama, scoring='roc_auc')\n",
    "model_svm.fit(x_train, y_train)\n",
    "print(\"Best parameters set found on development set:\")\n",
    "display(model_svm.best_params_)\n",
    "\n",
    "# Make a set of predictions for the test data\n",
    "y_pred = model_svm.predict(x_test)\n",
    "\n",
    "# Print performance details\n",
    "accuracy = metrics.accuracy_score(y_test, y_pred) # , normalize=True, sample_weight=None\n",
    "BOW_model_accuracy[\"Health-SVM\"] = accuracy\n",
    "print(\"Accuracy: \" +  str(accuracy))\n",
    "print(metrics.classification_report(y_test, y_pred))\n",
    "\n",
    "# Print confusion matrix\n",
    "print(\"Confusion Matrix\")\n",
    "pd.crosstab(np.array(y_test), y_pred, rownames=['True'], colnames=['Predicted'], margins=True)"
   ]
  },
  {
   "cell_type": "markdown",
   "metadata": {},
   "source": [
    "5-fold cross validation"
   ]
  },
  {
   "cell_type": "code",
   "execution_count": 37,
   "metadata": {
    "colab": {
     "base_uri": "https://localhost:8080/",
     "height": 52
    },
    "colab_type": "code",
    "id": "-qr4URWaMW4U",
    "outputId": "0f17b87c-969d-4ce9-fa3e-d4cc270d7aa8"
   },
   "outputs": [
    {
     "name": "stdout",
     "output_type": "stream",
     "text": [
      "Accuracy for 5 folds [0.90721649 0.88316151 0.89310345 0.87543253 0.8650519 ]\n",
      "Mean accuracy 0.8847931768428916\n"
     ]
    }
   ],
   "source": [
    "#Classifier\n",
    "clf = svm.SVC(C= 1, kernel='linear')\n",
    "#Create pipeline\n",
    "pipeline = create_pipeline(clf,'BOW')\n",
    "#Perform 5 fold cross validation\n",
    "scores = cross_val_score(pipeline,health_reviews_ratings['review'],health_reviews_ratings['rating'] , cv=5)\n",
    "#Store the mean score \n",
    "BOW_model_accuracy_fold[\"Health-SVM\"] = scores.mean()\n",
    "\n",
    "print(\"Accuracy for 5 folds\",scores)\n",
    "print(\"Mean accuracy\",scores.mean())"
   ]
  },
  {
   "cell_type": "markdown",
   "metadata": {},
   "source": [
    "Train-Test Split Results"
   ]
  },
  {
   "cell_type": "code",
   "execution_count": 38,
   "metadata": {
    "colab": {
     "base_uri": "https://localhost:8080/",
     "height": 573
    },
    "colab_type": "code",
    "id": "lPfCmCp0MW4W",
    "outputId": "06383155-0a8c-412f-a0d9-6baf2da529c2"
   },
   "outputs": [
    {
     "data": {
      "image/png": "[encoded data removed]",
      "text/plain": [
       "<Figure size 432x288 with 1 Axes>"
      ]
     },
     "metadata": {
      "tags": []
     },
     "output_type": "display_data"
    },
    {
     "data": {
      "image/png": "[encoded data removed]",
      "text/plain": [
       "<Figure size 432x288 with 1 Axes>"
      ]
     },
     "metadata": {
      "tags": []
     },
     "output_type": "display_data"
    }
   ],
   "source": [
    "BOW_model_accuracy = sorted(BOW_model_accuracy.items(), key=operator.itemgetter(1),reverse=True)\n",
    "BOW_model_accuracy = dict(BOW_model_accuracy)\n",
    "\n",
    "\n",
    "plt.xlim(0, 1.0)\n",
    "_ = plt.barh(range(len(BOW_model_accuracy)), list(BOW_model_accuracy.values()), align='center')\n",
    "_ = plt.yticks(range(len(BOW_model_accuracy)), list(BOW_model_accuracy.keys()))\n",
    "_ = plt.xlabel('Accuracy')\n",
    "_ = plt.title('Accuracy for classifier ran on both categories with Bag-of-Words vectorizer')\n",
    "for i, v in enumerate(list(BOW_model_accuracy.values())):\n",
    "    a=round(v,2)\n",
    "    plt.text(v+0.01 , i , str(a), color='black', fontweight='bold')\n",
    "plt.show()\n",
    "\n",
    "Tfidf_model_accuracy = sorted(Tfidf_model_accuracy.items(), key=operator.itemgetter(1),reverse=True)\n",
    "Tfidf_model_accuracy = dict(Tfidf_model_accuracy)\n",
    "\n",
    "plt.xlim(0, 1.0)\n",
    "_ = plt.barh(range(len(Tfidf_model_accuracy)), list(Tfidf_model_accuracy.values()), align='center')\n",
    "_ = plt.yticks(range(len(Tfidf_model_accuracy)), list(Tfidf_model_accuracy.keys()))\n",
    "_ = plt.xlabel('Accuracy')\n",
    "_ = plt.title('Accuracy for classifier ran on both categories with Tfidf vectorizer')\n",
    "for i, v in enumerate(list(Tfidf_model_accuracy.values())):\n",
    "    a=round(v,2)\n",
    "    plt.text(v+0.01 , i , str(a), color='black', fontweight='bold')\n",
    "plt.show()\n"
   ]
  },
  {
   "cell_type": "markdown",
   "metadata": {},
   "source": [
    "5-fold cross validation results"
   ]
  },
  {
   "cell_type": "code",
   "execution_count": 39,
   "metadata": {
    "colab": {
     "base_uri": "https://localhost:8080/",
     "height": 573
    },
    "colab_type": "code",
    "id": "ELj9jW4aMW4Y",
    "outputId": "33df0aa5-7255-413f-b64f-df1db8b6f280"
   },
   "outputs": [
    {
     "data": {
      "image/png": "[encoded data removed]",
      "text/plain": [
       "<Figure size 432x288 with 1 Axes>"
      ]
     },
     "metadata": {
      "tags": []
     },
     "output_type": "display_data"
    },
    {
     "data": {
      "image/png": "[encoded data removed]",
      "text/plain": [
       "<Figure size 432x288 with 1 Axes>"
      ]
     },
     "metadata": {
      "tags": []
     },
     "output_type": "display_data"
    }
   ],
   "source": [
    "BOW_model_accuracy_fold = sorted(BOW_model_accuracy_fold.items(), key=operator.itemgetter(1),reverse=True)\n",
    "BOW_model_accuracy_fold = dict(BOW_model_accuracy_fold)\n",
    "\n",
    "\n",
    "plt.xlim(0, 1.0)\n",
    "_ = plt.barh(range(len(BOW_model_accuracy_fold)), list(BOW_model_accuracy_fold.values()), align='center')\n",
    "_ = plt.yticks(range(len(BOW_model_accuracy_fold)), list(BOW_model_accuracy_fold.keys()))\n",
    "_ = plt.xlabel('Accuracy')\n",
    "_ = plt.title('Accuracy for classifier ran on both categories with Bag-of-Words vectorizer')\n",
    "for i, v in enumerate(list(BOW_model_accuracy_fold.values())):\n",
    "    a=round(v,2)\n",
    "    plt.text(v+0.01 , i , str(a), color='black', fontweight='bold')\n",
    "plt.show()\n",
    "\n",
    "\n",
    "Tfidf_model_accuracy_fold = sorted(Tfidf_model_accuracy_fold.items(), key=operator.itemgetter(1),reverse=True)\n",
    "Tfidf_model_accuracy_fold = dict(Tfidf_model_accuracy_fold)\n",
    "\n",
    "plt.xlim(0, 1.0)\n",
    "_ = plt.barh(range(len(Tfidf_model_accuracy_fold)), list(Tfidf_model_accuracy_fold.values()), align='center')\n",
    "_ = plt.yticks(range(len(Tfidf_model_accuracy_fold)), list(Tfidf_model_accuracy_fold.keys()))\n",
    "_ = plt.xlabel('Accuracy')\n",
    "_ = plt.title('Accuracy for different classifier for both reviews')\n",
    "for i, v in enumerate(list(Tfidf_model_accuracy_fold.values())):\n",
    "    a=round(v,2)\n",
    "    plt.text(v+0.01 , i , str(a), color='black', fontweight='bold')\n",
    "plt.show()\n"
   ]
  },
  {
   "cell_type": "markdown",
   "metadata": {},
   "source": [
    "Train-Test split Results of classifier with different vetorizer combined in single graph"
   ]
  },
  {
   "cell_type": "code",
   "execution_count": 63,
   "metadata": {
    "colab": {
     "base_uri": "https://localhost:8080/",
     "height": 295
    },
    "colab_type": "code",
    "id": "qZnKZCtxMW4a",
    "outputId": "e81a4331-f504-4b12-bc74-0a46023d8afc"
   },
   "outputs": [
    {
     "data": {
      "image/png": "[encoded data removed]",
      "text/plain": [
       "<Figure size 432x288 with 1 Axes>"
      ]
     },
     "metadata": {
      "tags": []
     },
     "output_type": "display_data"
    }
   ],
   "source": [
    "plt.xlim(0, 1.17)\n",
    "X = np.arange(len(Tfidf_model_accuracy))\n",
    "plt.barh(X + 0.00, list(Tfidf_model_accuracy.values()), color = 'b', label = 'Tfidf',height = 0.30)\n",
    "plt.barh(X + 0.30, list(BOW_model_accuracy.values()), color = 'r', label = 'BOW',height = 0.30)\n",
    "plt.yticks(range(len(Tfidf_model_accuracy)), list(Tfidf_model_accuracy.keys()))\n",
    "plt.xlabel('Accuracy')\n",
    "plt.title('Accuracy for classifier ran on both categories with Bag-of-Words & Tfidf vectorizer')\n",
    "plt.legend()\n",
    "for i, v in enumerate(list(BOW_model_accuracy.values())):\n",
    "    a=round(v,2)\n",
    "    plt.text(v+0.01 , i+0.3 , str(a), color='black', fontweight='bold')\n",
    "for i, v in enumerate(list(Tfidf_model_accuracy.values())):\n",
    "    a=round(v,2)\n",
    "    plt.text(v+0.01 , i-0.2 , str(a), color='black', fontweight='bold')\n",
    "plt.show()"
   ]
  },
  {
   "cell_type": "markdown",
   "metadata": {},
   "source": [
    "5-fold cross validation Results of classifier with different vetorizer combined in single graph"
   ]
  },
  {
   "cell_type": "code",
   "execution_count": 41,
   "metadata": {
    "colab": {
     "base_uri": "https://localhost:8080/",
     "height": 295
    },
    "colab_type": "code",
    "id": "VzN-SZEEMW4d",
    "outputId": "bfc207a7-5125-44d7-ba1f-0fa90c2dd166"
   },
   "outputs": [
    {
     "data": {
      "image/png": "[encoded data removed]",
      "text/plain": [
       "<Figure size 432x288 with 1 Axes>"
      ]
     },
     "metadata": {
      "tags": []
     },
     "output_type": "display_data"
    }
   ],
   "source": [
    "plt.xlim(0, 1.09)\n",
    "X = np.arange(len(Tfidf_model_accuracy_fold))\n",
    "plt.barh(X + 0.00, list(Tfidf_model_accuracy_fold.values()), color = 'b', label = 'Tfidf',height = 0.30)\n",
    "plt.barh(X + 0.30, list(BOW_model_accuracy_fold.values()), color = 'r', label = 'BOW',height = 0.30)\n",
    "plt.yticks(range(len(Tfidf_model_accuracy_fold)), list(Tfidf_model_accuracy_fold.keys()))\n",
    "plt.xlabel('Accuracy')\n",
    "plt.title('Accuracy for classifier ran on both categories with Bag-of-Words & Tfidf vectorizer')\n",
    "plt.legend()\n",
    "for i, v in enumerate(list(BOW_model_accuracy_fold.values())):\n",
    "    a=round(v,2)\n",
    "    plt.text(v+0.01 , i+0.3 , str(a), color='black', fontweight='bold')\n",
    "for i, v in enumerate(list(Tfidf_model_accuracy_fold.values())):\n",
    "    a=round(v,2)\n",
    "    plt.text(v+0.01 , i-0.2 , str(a), color='black', fontweight='bold')\n",
    "plt.show()"
   ]
  },
  {
   "cell_type": "markdown",
   "metadata": {},
   "source": [
    "Get the distribution of class(positive or negative reviews) for both categories"
   ]
  },
  {
   "cell_type": "code",
   "execution_count": 42,
   "metadata": {
    "colab": {
     "base_uri": "https://localhost:8080/",
     "height": 52
    },
    "colab_type": "code",
    "id": "tRcrQq0NMW4f",
    "outputId": "11ef22ce-d7d8-4a54-d797-19913231267d"
   },
   "outputs": [
    {
     "name": "stdout",
     "output_type": "stream",
     "text": [
      "dict_keys(['positive', 'negative'])\n"
     ]
    },
    {
     "data": {
      "text/plain": [
       "dict_values([973, 482])"
      ]
     },
     "execution_count": 42,
     "metadata": {
      "tags": []
     },
     "output_type": "execute_result"
    }
   ],
   "source": [
    "print(Counter(automotive_reviews_ratings['rating']).keys())\n",
    "Counter(automotive_reviews_ratings['rating']).values()"
   ]
  },
  {
   "cell_type": "code",
   "execution_count": 43,
   "metadata": {
    "colab": {
     "base_uri": "https://localhost:8080/",
     "height": 52
    },
    "colab_type": "code",
    "id": "xdkALQDSMW4i",
    "outputId": "1e7f6375-d373-47c7-e9b4-d8d8640cae45"
   },
   "outputs": [
    {
     "name": "stdout",
     "output_type": "stream",
     "text": [
      "dict_keys(['positive', 'negative'])\n"
     ]
    },
    {
     "data": {
      "text/plain": [
       "dict_values([1043, 407])"
      ]
     },
     "execution_count": 43,
     "metadata": {
      "tags": []
     },
     "output_type": "execute_result"
    }
   ],
   "source": [
    "print(Counter(health_reviews_ratings['rating']).keys()) \n",
    "Counter(health_reviews_ratings['rating']).values()"
   ]
  },
  {
   "cell_type": "markdown",
   "metadata": {
    "colab_type": "text",
    "id": "uI2qGiAbMW4k"
   },
   "source": [
    "It can be observed Tfidf vectorizer has performed very well for classifiers where bag-of-word did not perform good. In remaining classifiers Tfidf has performed considerably well but Bag-of-words vectorizer is getting more accuracy for some classifier. The reason is that there are **few examples** to calibrate Tfidf. To check which vectorizer is better i have merged both the categories reviews into one list and now will use this data for classification."
   ]
  },
  {
   "cell_type": "code",
   "execution_count": 0,
   "metadata": {
    "colab": {},
    "colab_type": "code",
    "id": "n7uTeSMpMW4l"
   },
   "outputs": [],
   "source": [
    "#Merge reviews from both categories into single list\n",
    "automotive_health_reviews = list(automotive_reviews_ratings['review']) + list(health_reviews_ratings['review'])\n",
    "automotive_health_ratings = list(automotive_reviews_ratings['rating']) + list(health_reviews_ratings['rating'])"
   ]
  },
  {
   "cell_type": "code",
   "execution_count": 0,
   "metadata": {
    "colab": {},
    "colab_type": "code",
    "id": "xM4_uIRrMW4m"
   },
   "outputs": [],
   "source": [
    "automotive_health = {}\n",
    "automotive_health_fold = {}"
   ]
  },
  {
   "cell_type": "markdown",
   "metadata": {
    "colab_type": "text",
    "id": "gV3dZJDnMW4o"
   },
   "source": [
    "#### Classifier : K-nn & Vectorizer : Tfidf"
   ]
  },
  {
   "cell_type": "code",
   "execution_count": 46,
   "metadata": {
    "colab": {
     "base_uri": "https://localhost:8080/",
     "height": 431
    },
    "colab_type": "code",
    "id": "ncmTnFMIMW4p",
    "outputId": "0a56187c-1ff4-48c0-f137-80298f7f7ace"
   },
   "outputs": [
    {
     "name": "stdout",
     "output_type": "stream",
     "text": [
      "Best parameters set found on development set:\n"
     ]
    },
    {
     "data": {
      "text/plain": [
       "{'classifier__metric': 'euclidean',\n",
       " 'classifier__n_neighbors': 11,\n",
       " 'classifier__weights': 'distance'}"
      ]
     },
     "metadata": {
      "tags": []
     },
     "output_type": "display_data"
    },
    {
     "name": "stdout",
     "output_type": "stream",
     "text": [
      "Accuracy: 0.7970183486238532\n",
      "              precision    recall  f1-score   support\n",
      "\n",
      "    negative       0.85      0.47      0.60       287\n",
      "    positive       0.79      0.96      0.86       585\n",
      "\n",
      "   micro avg       0.80      0.80      0.80       872\n",
      "   macro avg       0.82      0.71      0.73       872\n",
      "weighted avg       0.81      0.80      0.78       872\n",
      "\n",
      "Confusion Matrix\n"
     ]
    },
    {
     "data": {
      "text/html": [
       "<div>\n",
       "<style scoped>\n",
       "    .dataframe tbody tr th:only-of-type {\n",
       "        vertical-align: middle;\n",
       "    }\n",
       "\n",
       "    .dataframe tbody tr th {\n",
       "        vertical-align: top;\n",
       "    }\n",
       "\n",
       "    .dataframe thead th {\n",
       "        text-align: right;\n",
       "    }\n",
       "</style>\n",
       "<table border=\"1\" class=\"dataframe\">\n",
       "  <thead>\n",
       "    <tr style=\"text-align: right;\">\n",
       "      <th>Predicted</th>\n",
       "      <th>negative</th>\n",
       "      <th>positive</th>\n",
       "      <th>All</th>\n",
       "    </tr>\n",
       "    <tr>\n",
       "      <th>True</th>\n",
       "      <th></th>\n",
       "      <th></th>\n",
       "      <th></th>\n",
       "    </tr>\n",
       "  </thead>\n",
       "  <tbody>\n",
       "    <tr>\n",
       "      <th>negative</th>\n",
       "      <td>134</td>\n",
       "      <td>153</td>\n",
       "      <td>287</td>\n",
       "    </tr>\n",
       "    <tr>\n",
       "      <th>positive</th>\n",
       "      <td>24</td>\n",
       "      <td>561</td>\n",
       "      <td>585</td>\n",
       "    </tr>\n",
       "    <tr>\n",
       "      <th>All</th>\n",
       "      <td>158</td>\n",
       "      <td>714</td>\n",
       "      <td>872</td>\n",
       "    </tr>\n",
       "  </tbody>\n",
       "</table>\n",
       "</div>"
      ],
      "text/plain": [
       "Predicted  negative  positive  All\n",
       "True                              \n",
       "negative        134       153  287\n",
       "positive         24       561  585\n",
       "All             158       714  872"
      ]
     },
     "execution_count": 46,
     "metadata": {
      "tags": []
     },
     "output_type": "execute_result"
    }
   ],
   "source": [
    "#Split data\n",
    "x_train, x_test, y_train, y_test = train_test_split(automotive_health_reviews,automotive_health_ratings,train_size=0.7)\n",
    "\n",
    "#Create pipeline\n",
    "pipeline = create_pipeline(KNeighborsClassifier(),'Tfidf')\n",
    "#Grid parameters\n",
    "parama = {'classifier__n_neighbors': [3,4,6,9,11],\n",
    "           'classifier__weights': ['uniform','distance'],\n",
    "           'classifier__metric': ['euclidean','manhattan']}\n",
    "\n",
    "#GridSearch\n",
    "model_knn = GridSearchCV(pipeline, parama, scoring='roc_auc')\n",
    "#Fit model\n",
    "model_knn.fit(x_train, y_train)\n",
    "print(\"Best parameters set found on development set:\")\n",
    "display(model_knn.best_params_)\n",
    "\n",
    "# Make a set of predictions for the test data\n",
    "y_pred = model_knn.predict(x_test)\n",
    "\n",
    "# Print performance details\n",
    "accuracy = metrics.accuracy_score(y_test, y_pred) # , normalize=True, sample_weight=None\n",
    "automotive_health[\"tfidf-Knn\"] = accuracy\n",
    "print(\"Accuracy: \" +  str(accuracy))\n",
    "print(metrics.classification_report(y_test, y_pred))\n",
    "\n",
    "# Print confusion matrix\n",
    "print(\"Confusion Matrix\")\n",
    "pd.crosstab(np.array(y_test), y_pred, rownames=['True'], colnames=['Predicted'], margins=True)"
   ]
  },
  {
   "cell_type": "markdown",
   "metadata": {
    "colab_type": "text",
    "id": "wrDaBCftMW4r"
   },
   "source": [
    "#### Classifier : Naive Bayes & Vectorizer : Tfidf"
   ]
  },
  {
   "cell_type": "code",
   "execution_count": 47,
   "metadata": {
    "colab": {
     "base_uri": "https://localhost:8080/",
     "height": 397
    },
    "colab_type": "code",
    "id": "Y-F8Tkk9MW4r",
    "outputId": "3305803f-eca9-49b1-fc4b-8fe34d4d003a"
   },
   "outputs": [
    {
     "name": "stdout",
     "output_type": "stream",
     "text": [
      "Best parameters set found on development set:\n"
     ]
    },
    {
     "data": {
      "text/plain": [
       "{'classifier': MultinomialNB(alpha=1.0, class_prior=None, fit_prior=True)}"
      ]
     },
     "metadata": {
      "tags": []
     },
     "output_type": "display_data"
    },
    {
     "name": "stdout",
     "output_type": "stream",
     "text": [
      "Accuracy: 0.8658256880733946\n",
      "              precision    recall  f1-score   support\n",
      "\n",
      "    negative       0.97      0.61      0.75       287\n",
      "    positive       0.84      0.99      0.91       585\n",
      "\n",
      "   micro avg       0.87      0.87      0.87       872\n",
      "   macro avg       0.91      0.80      0.83       872\n",
      "weighted avg       0.88      0.87      0.86       872\n",
      "\n",
      "Confusion Matrix\n"
     ]
    },
    {
     "data": {
      "text/html": [
       "<div>\n",
       "<style scoped>\n",
       "    .dataframe tbody tr th:only-of-type {\n",
       "        vertical-align: middle;\n",
       "    }\n",
       "\n",
       "    .dataframe tbody tr th {\n",
       "        vertical-align: top;\n",
       "    }\n",
       "\n",
       "    .dataframe thead th {\n",
       "        text-align: right;\n",
       "    }\n",
       "</style>\n",
       "<table border=\"1\" class=\"dataframe\">\n",
       "  <thead>\n",
       "    <tr style=\"text-align: right;\">\n",
       "      <th>Predicted</th>\n",
       "      <th>negative</th>\n",
       "      <th>positive</th>\n",
       "      <th>All</th>\n",
       "    </tr>\n",
       "    <tr>\n",
       "      <th>True</th>\n",
       "      <th></th>\n",
       "      <th></th>\n",
       "      <th></th>\n",
       "    </tr>\n",
       "  </thead>\n",
       "  <tbody>\n",
       "    <tr>\n",
       "      <th>negative</th>\n",
       "      <td>175</td>\n",
       "      <td>112</td>\n",
       "      <td>287</td>\n",
       "    </tr>\n",
       "    <tr>\n",
       "      <th>positive</th>\n",
       "      <td>5</td>\n",
       "      <td>580</td>\n",
       "      <td>585</td>\n",
       "    </tr>\n",
       "    <tr>\n",
       "      <th>All</th>\n",
       "      <td>180</td>\n",
       "      <td>692</td>\n",
       "      <td>872</td>\n",
       "    </tr>\n",
       "  </tbody>\n",
       "</table>\n",
       "</div>"
      ],
      "text/plain": [
       "Predicted  negative  positive  All\n",
       "True                              \n",
       "negative        175       112  287\n",
       "positive          5       580  585\n",
       "All             180       692  872"
      ]
     },
     "execution_count": 47,
     "metadata": {
      "tags": []
     },
     "output_type": "execute_result"
    }
   ],
   "source": [
    "pipeline = create_pipeline(MultinomialNB(),'Tfidf')\n",
    "\n",
    "\n",
    "parama = {'classifier': [MultinomialNB(),GaussianNB()]}\n",
    "\n",
    "\n",
    "model_nb = GridSearchCV(pipeline, parama, scoring='roc_auc')\n",
    "model_nb.fit(x_train, y_train)\n",
    "print(\"Best parameters set found on development set:\")\n",
    "display(model_nb.best_params_)\n",
    "\n",
    "# Make a set of predictions for the test data\n",
    "y_pred = model_nb.predict(x_test)\n",
    "\n",
    "\n",
    "\n",
    "# Print performance details\n",
    "accuracy = metrics.accuracy_score(y_test, y_pred) # , normalize=True, sample_weight=None\n",
    "automotive_health[\"tfidf-NaiveBayes\"] = accuracy\n",
    "print(\"Accuracy: \" +  str(accuracy))\n",
    "print(metrics.classification_report(y_test, y_pred))\n",
    "\n",
    "# Print confusion matrix\n",
    "print(\"Confusion Matrix\")\n",
    "pd.crosstab(np.array(y_test), y_pred, rownames=['True'], colnames=['Predicted'], margins=True)"
   ]
  },
  {
   "cell_type": "markdown",
   "metadata": {
    "colab_type": "text",
    "id": "UfnKsgwqMW4t"
   },
   "source": [
    "#### Classifier : SVM & Vectorizer : Tfidf"
   ]
  },
  {
   "cell_type": "code",
   "execution_count": 48,
   "metadata": {
    "colab": {
     "base_uri": "https://localhost:8080/",
     "height": 397
    },
    "colab_type": "code",
    "id": "BNxiglqrMW4u",
    "outputId": "7b7087e7-5ff3-4ebd-a9cc-295f4a9b558a"
   },
   "outputs": [
    {
     "name": "stdout",
     "output_type": "stream",
     "text": [
      "Best parameters set found on development set:\n"
     ]
    },
    {
     "data": {
      "text/plain": [
       "{'classifier__C': 1, 'classifier__kernel': 'linear'}"
      ]
     },
     "metadata": {
      "tags": []
     },
     "output_type": "display_data"
    },
    {
     "name": "stdout",
     "output_type": "stream",
     "text": [
      "Accuracy: 0.9071100917431193\n",
      "              precision    recall  f1-score   support\n",
      "\n",
      "    negative       0.90      0.81      0.85       287\n",
      "    positive       0.91      0.95      0.93       585\n",
      "\n",
      "   micro avg       0.91      0.91      0.91       872\n",
      "   macro avg       0.90      0.88      0.89       872\n",
      "weighted avg       0.91      0.91      0.91       872\n",
      "\n",
      "Confusion Matrix\n"
     ]
    },
    {
     "data": {
      "text/html": [
       "<div>\n",
       "<style scoped>\n",
       "    .dataframe tbody tr th:only-of-type {\n",
       "        vertical-align: middle;\n",
       "    }\n",
       "\n",
       "    .dataframe tbody tr th {\n",
       "        vertical-align: top;\n",
       "    }\n",
       "\n",
       "    .dataframe thead th {\n",
       "        text-align: right;\n",
       "    }\n",
       "</style>\n",
       "<table border=\"1\" class=\"dataframe\">\n",
       "  <thead>\n",
       "    <tr style=\"text-align: right;\">\n",
       "      <th>Predicted</th>\n",
       "      <th>negative</th>\n",
       "      <th>positive</th>\n",
       "      <th>All</th>\n",
       "    </tr>\n",
       "    <tr>\n",
       "      <th>True</th>\n",
       "      <th></th>\n",
       "      <th></th>\n",
       "      <th></th>\n",
       "    </tr>\n",
       "  </thead>\n",
       "  <tbody>\n",
       "    <tr>\n",
       "      <th>negative</th>\n",
       "      <td>233</td>\n",
       "      <td>54</td>\n",
       "      <td>287</td>\n",
       "    </tr>\n",
       "    <tr>\n",
       "      <th>positive</th>\n",
       "      <td>27</td>\n",
       "      <td>558</td>\n",
       "      <td>585</td>\n",
       "    </tr>\n",
       "    <tr>\n",
       "      <th>All</th>\n",
       "      <td>260</td>\n",
       "      <td>612</td>\n",
       "      <td>872</td>\n",
       "    </tr>\n",
       "  </tbody>\n",
       "</table>\n",
       "</div>"
      ],
      "text/plain": [
       "Predicted  negative  positive  All\n",
       "True                              \n",
       "negative        233        54  287\n",
       "positive         27       558  585\n",
       "All             260       612  872"
      ]
     },
     "execution_count": 48,
     "metadata": {
      "tags": []
     },
     "output_type": "execute_result"
    }
   ],
   "source": [
    "pipeline = create_pipeline(svm.SVC(),'Tfidf')\n",
    "\n",
    "parama = {'classifier__kernel': ['linear'],\n",
    "           'classifier__C': [1, 10]}\n",
    "\n",
    "\n",
    "model_svm = GridSearchCV(pipeline, parama, scoring='roc_auc')\n",
    "model_svm.fit(x_train, y_train)\n",
    "print(\"Best parameters set found on development set:\")\n",
    "display(model_svm.best_params_)\n",
    "\n",
    "# Make a set of predictions for the test data\n",
    "y_pred = model_svm.predict(x_test)\n",
    "\n",
    "# Print performance details\n",
    "accuracy = metrics.accuracy_score(y_test, y_pred) # , normalize=True, sample_weight=None\n",
    "automotive_health[\"tfidf-SVM\"] = accuracy\n",
    "print(\"Accuracy: \" +  str(accuracy))\n",
    "print(metrics.classification_report(y_test, y_pred))\n",
    "\n",
    "# Print confusion matrix\n",
    "print(\"Confusion Matrix\")\n",
    "pd.crosstab(np.array(y_test), y_pred, rownames=['True'], colnames=['Predicted'], margins=True)"
   ]
  },
  {
   "cell_type": "markdown",
   "metadata": {
    "colab_type": "text",
    "id": "P-gzCav6MW4x"
   },
   "source": [
    "#### Classifier : K-nn & Vectorizer : CountVectorizer or Bag-of-Words"
   ]
  },
  {
   "cell_type": "code",
   "execution_count": 49,
   "metadata": {
    "colab": {
     "base_uri": "https://localhost:8080/",
     "height": 431
    },
    "colab_type": "code",
    "id": "xm_cHN93MW4y",
    "outputId": "08905a0f-491c-4d77-c66c-cd23eaa9ec71"
   },
   "outputs": [
    {
     "name": "stdout",
     "output_type": "stream",
     "text": [
      "Best parameters set found on development set:\n"
     ]
    },
    {
     "data": {
      "text/plain": [
       "{'classifier__metric': 'manhattan',\n",
       " 'classifier__n_neighbors': 11,\n",
       " 'classifier__weights': 'distance'}"
      ]
     },
     "metadata": {
      "tags": []
     },
     "output_type": "display_data"
    },
    {
     "name": "stdout",
     "output_type": "stream",
     "text": [
      "Accuracy: 0.6777522935779816\n",
      "              precision    recall  f1-score   support\n",
      "\n",
      "    negative       0.88      0.02      0.05       287\n",
      "    positive       0.68      1.00      0.81       585\n",
      "\n",
      "   micro avg       0.68      0.68      0.68       872\n",
      "   macro avg       0.78      0.51      0.43       872\n",
      "weighted avg       0.74      0.68      0.56       872\n",
      "\n",
      "Confusion Matrix\n"
     ]
    },
    {
     "data": {
      "text/html": [
       "<div>\n",
       "<style scoped>\n",
       "    .dataframe tbody tr th:only-of-type {\n",
       "        vertical-align: middle;\n",
       "    }\n",
       "\n",
       "    .dataframe tbody tr th {\n",
       "        vertical-align: top;\n",
       "    }\n",
       "\n",
       "    .dataframe thead th {\n",
       "        text-align: right;\n",
       "    }\n",
       "</style>\n",
       "<table border=\"1\" class=\"dataframe\">\n",
       "  <thead>\n",
       "    <tr style=\"text-align: right;\">\n",
       "      <th>Predicted</th>\n",
       "      <th>negative</th>\n",
       "      <th>positive</th>\n",
       "      <th>All</th>\n",
       "    </tr>\n",
       "    <tr>\n",
       "      <th>True</th>\n",
       "      <th></th>\n",
       "      <th></th>\n",
       "      <th></th>\n",
       "    </tr>\n",
       "  </thead>\n",
       "  <tbody>\n",
       "    <tr>\n",
       "      <th>negative</th>\n",
       "      <td>7</td>\n",
       "      <td>280</td>\n",
       "      <td>287</td>\n",
       "    </tr>\n",
       "    <tr>\n",
       "      <th>positive</th>\n",
       "      <td>1</td>\n",
       "      <td>584</td>\n",
       "      <td>585</td>\n",
       "    </tr>\n",
       "    <tr>\n",
       "      <th>All</th>\n",
       "      <td>8</td>\n",
       "      <td>864</td>\n",
       "      <td>872</td>\n",
       "    </tr>\n",
       "  </tbody>\n",
       "</table>\n",
       "</div>"
      ],
      "text/plain": [
       "Predicted  negative  positive  All\n",
       "True                              \n",
       "negative          7       280  287\n",
       "positive          1       584  585\n",
       "All               8       864  872"
      ]
     },
     "execution_count": 49,
     "metadata": {
      "tags": []
     },
     "output_type": "execute_result"
    }
   ],
   "source": [
    "pipeline = create_pipeline(KNeighborsClassifier(),'BOW')\n",
    "\n",
    "parama = {'classifier__n_neighbors': [3,4,6,9,11],\n",
    "           'classifier__weights': ['uniform','distance'],\n",
    "           'classifier__metric': ['euclidean','manhattan']}\n",
    "\n",
    "\n",
    "model_knn = GridSearchCV(pipeline, parama, scoring='roc_auc')\n",
    "model_knn.fit(x_train, y_train)\n",
    "print(\"Best parameters set found on development set:\")\n",
    "display(model_knn.best_params_)\n",
    "\n",
    "# Make a set of predictions for the test data\n",
    "y_pred = model_knn.predict(x_test)\n",
    "\n",
    "# Print performance details\n",
    "accuracy = metrics.accuracy_score(y_test, y_pred) # , normalize=True, sample_weight=None\n",
    "automotive_health[\"BOW-Knn\"] = accuracy\n",
    "print(\"Accuracy: \" +  str(accuracy))\n",
    "print(metrics.classification_report(y_test, y_pred))\n",
    "\n",
    "# Print confusion matrix\n",
    "print(\"Confusion Matrix\")\n",
    "pd.crosstab(np.array(y_test), y_pred, rownames=['True'], colnames=['Predicted'], margins=True)"
   ]
  },
  {
   "cell_type": "markdown",
   "metadata": {
    "colab_type": "text",
    "id": "igAopl_UMW40"
   },
   "source": [
    "#### Classifier : Naive Bayes & Vectorizer : CountVectorizer or Bag-of-Words"
   ]
  },
  {
   "cell_type": "code",
   "execution_count": 50,
   "metadata": {
    "colab": {
     "base_uri": "https://localhost:8080/",
     "height": 397
    },
    "colab_type": "code",
    "id": "H0aQpCvlMW40",
    "outputId": "bd6283bf-f0f2-419c-bc95-c32cd8f604d6"
   },
   "outputs": [
    {
     "name": "stdout",
     "output_type": "stream",
     "text": [
      "Best parameters set found on development set:\n"
     ]
    },
    {
     "data": {
      "text/plain": [
       "{'classifier': MultinomialNB(alpha=1.0, class_prior=None, fit_prior=True)}"
      ]
     },
     "metadata": {
      "tags": []
     },
     "output_type": "display_data"
    },
    {
     "name": "stdout",
     "output_type": "stream",
     "text": [
      "Accuracy: 0.9059633027522935\n",
      "              precision    recall  f1-score   support\n",
      "\n",
      "    negative       0.85      0.87      0.86       287\n",
      "    positive       0.94      0.92      0.93       585\n",
      "\n",
      "   micro avg       0.91      0.91      0.91       872\n",
      "   macro avg       0.89      0.90      0.89       872\n",
      "weighted avg       0.91      0.91      0.91       872\n",
      "\n",
      "Confusion Matrix\n"
     ]
    },
    {
     "data": {
      "text/html": [
       "<div>\n",
       "<style scoped>\n",
       "    .dataframe tbody tr th:only-of-type {\n",
       "        vertical-align: middle;\n",
       "    }\n",
       "\n",
       "    .dataframe tbody tr th {\n",
       "        vertical-align: top;\n",
       "    }\n",
       "\n",
       "    .dataframe thead th {\n",
       "        text-align: right;\n",
       "    }\n",
       "</style>\n",
       "<table border=\"1\" class=\"dataframe\">\n",
       "  <thead>\n",
       "    <tr style=\"text-align: right;\">\n",
       "      <th>Predicted</th>\n",
       "      <th>negative</th>\n",
       "      <th>positive</th>\n",
       "      <th>All</th>\n",
       "    </tr>\n",
       "    <tr>\n",
       "      <th>True</th>\n",
       "      <th></th>\n",
       "      <th></th>\n",
       "      <th></th>\n",
       "    </tr>\n",
       "  </thead>\n",
       "  <tbody>\n",
       "    <tr>\n",
       "      <th>negative</th>\n",
       "      <td>251</td>\n",
       "      <td>36</td>\n",
       "      <td>287</td>\n",
       "    </tr>\n",
       "    <tr>\n",
       "      <th>positive</th>\n",
       "      <td>46</td>\n",
       "      <td>539</td>\n",
       "      <td>585</td>\n",
       "    </tr>\n",
       "    <tr>\n",
       "      <th>All</th>\n",
       "      <td>297</td>\n",
       "      <td>575</td>\n",
       "      <td>872</td>\n",
       "    </tr>\n",
       "  </tbody>\n",
       "</table>\n",
       "</div>"
      ],
      "text/plain": [
       "Predicted  negative  positive  All\n",
       "True                              \n",
       "negative        251        36  287\n",
       "positive         46       539  585\n",
       "All             297       575  872"
      ]
     },
     "execution_count": 50,
     "metadata": {
      "tags": []
     },
     "output_type": "execute_result"
    }
   ],
   "source": [
    "pipeline = create_pipeline(MultinomialNB(),'BOW')\n",
    "\n",
    "\n",
    "parama = {'classifier': [MultinomialNB(),GaussianNB()]}\n",
    "\n",
    "\n",
    "model_nb = GridSearchCV(pipeline, parama, scoring='roc_auc')\n",
    "model_nb.fit(x_train, y_train)\n",
    "print(\"Best parameters set found on development set:\")\n",
    "display(model_nb.best_params_)\n",
    "\n",
    "# Make a set of predictions for the test data\n",
    "y_pred = model_nb.predict(x_test)\n",
    "\n",
    "\n",
    "\n",
    "# Print performance details\n",
    "accuracy = metrics.accuracy_score(y_test, y_pred) # , normalize=True, sample_weight=None\n",
    "automotive_health[\"BOW-NaiveBayes\"] = accuracy\n",
    "print(\"Accuracy: \" +  str(accuracy))\n",
    "print(metrics.classification_report(y_test, y_pred))\n",
    "\n",
    "# Print confusion matrix\n",
    "print(\"Confusion Matrix\")\n",
    "pd.crosstab(np.array(y_test), y_pred, rownames=['True'], colnames=['Predicted'], margins=True)"
   ]
  },
  {
   "cell_type": "markdown",
   "metadata": {
    "colab_type": "text",
    "id": "39YzQBK_MW43"
   },
   "source": [
    "#### Classifier : SVM & Vectorizer : CountVectorizer or Bag-of-Words"
   ]
  },
  {
   "cell_type": "code",
   "execution_count": 51,
   "metadata": {
    "colab": {
     "base_uri": "https://localhost:8080/",
     "height": 397
    },
    "colab_type": "code",
    "id": "glqh58y_MW43",
    "outputId": "381939b0-5444-4c23-cacb-0aae32336055"
   },
   "outputs": [
    {
     "name": "stdout",
     "output_type": "stream",
     "text": [
      "Best parameters set found on development set:\n"
     ]
    },
    {
     "data": {
      "text/plain": [
       "{'classifier__C': 1, 'classifier__kernel': 'linear'}"
      ]
     },
     "metadata": {
      "tags": []
     },
     "output_type": "display_data"
    },
    {
     "name": "stdout",
     "output_type": "stream",
     "text": [
      "Accuracy: 0.8899082568807339\n",
      "              precision    recall  f1-score   support\n",
      "\n",
      "    negative       0.84      0.82      0.83       287\n",
      "    positive       0.91      0.92      0.92       585\n",
      "\n",
      "   micro avg       0.89      0.89      0.89       872\n",
      "   macro avg       0.88      0.87      0.87       872\n",
      "weighted avg       0.89      0.89      0.89       872\n",
      "\n",
      "Confusion Matrix\n"
     ]
    },
    {
     "data": {
      "text/html": [
       "<div>\n",
       "<style scoped>\n",
       "    .dataframe tbody tr th:only-of-type {\n",
       "        vertical-align: middle;\n",
       "    }\n",
       "\n",
       "    .dataframe tbody tr th {\n",
       "        vertical-align: top;\n",
       "    }\n",
       "\n",
       "    .dataframe thead th {\n",
       "        text-align: right;\n",
       "    }\n",
       "</style>\n",
       "<table border=\"1\" class=\"dataframe\">\n",
       "  <thead>\n",
       "    <tr style=\"text-align: right;\">\n",
       "      <th>Predicted</th>\n",
       "      <th>negative</th>\n",
       "      <th>positive</th>\n",
       "      <th>All</th>\n",
       "    </tr>\n",
       "    <tr>\n",
       "      <th>True</th>\n",
       "      <th></th>\n",
       "      <th></th>\n",
       "      <th></th>\n",
       "    </tr>\n",
       "  </thead>\n",
       "  <tbody>\n",
       "    <tr>\n",
       "      <th>negative</th>\n",
       "      <td>236</td>\n",
       "      <td>51</td>\n",
       "      <td>287</td>\n",
       "    </tr>\n",
       "    <tr>\n",
       "      <th>positive</th>\n",
       "      <td>45</td>\n",
       "      <td>540</td>\n",
       "      <td>585</td>\n",
       "    </tr>\n",
       "    <tr>\n",
       "      <th>All</th>\n",
       "      <td>281</td>\n",
       "      <td>591</td>\n",
       "      <td>872</td>\n",
       "    </tr>\n",
       "  </tbody>\n",
       "</table>\n",
       "</div>"
      ],
      "text/plain": [
       "Predicted  negative  positive  All\n",
       "True                              \n",
       "negative        236        51  287\n",
       "positive         45       540  585\n",
       "All             281       591  872"
      ]
     },
     "execution_count": 51,
     "metadata": {
      "tags": []
     },
     "output_type": "execute_result"
    }
   ],
   "source": [
    "pipeline = create_pipeline(svm.SVC(),'BOW')\n",
    "\n",
    "parama = {'classifier__kernel': ['linear'],\n",
    "           'classifier__C': [1, 10]}\n",
    "\n",
    "\n",
    "model_svm = GridSearchCV(pipeline, parama, scoring='roc_auc')\n",
    "model_svm.fit(x_train, y_train)\n",
    "print(\"Best parameters set found on development set:\")\n",
    "display(model_svm.best_params_)\n",
    "\n",
    "# Make a set of predictions for the test data\n",
    "y_pred = model_svm.predict(x_test)\n",
    "\n",
    "# Print performance details\n",
    "accuracy = metrics.accuracy_score(y_test, y_pred) # , normalize=True, sample_weight=None\n",
    "automotive_health[\"BOW-SVM\"] = accuracy\n",
    "print(\"Accuracy: \" +  str(accuracy))\n",
    "print(metrics.classification_report(y_test, y_pred))\n",
    "\n",
    "# Print confusion matrix\n",
    "print(\"Confusion Matrix\")\n",
    "pd.crosstab(np.array(y_test), y_pred, rownames=['True'], colnames=['Predicted'], margins=True)"
   ]
  },
  {
   "cell_type": "code",
   "execution_count": 52,
   "metadata": {
    "colab": {
     "base_uri": "https://localhost:8080/",
     "height": 295
    },
    "colab_type": "code",
    "id": "W29p7qNHMW46",
    "outputId": "1943d37d-9e8c-490c-a5f5-92682e152751"
   },
   "outputs": [
    {
     "data": {
      "image/png": "[encoded data removed]",
      "text/plain": [
       "<Figure size 432x288 with 1 Axes>"
      ]
     },
     "metadata": {
      "tags": []
     },
     "output_type": "display_data"
    }
   ],
   "source": [
    "automotive_health = sorted(automotive_health.items(), key=operator.itemgetter(1),reverse=True)\n",
    "automotive_health = dict(automotive_health)\n",
    "\n",
    "\n",
    "plt.xlim(0, 1.0)\n",
    "_ = plt.barh(range(len(automotive_health)), list(automotive_health.values()), align='center')\n",
    "_ = plt.yticks(range(len(automotive_health)), list(automotive_health.keys()))\n",
    "_ = plt.xlabel('Accuracy')\n",
    "_ = plt.title('Accuracy of classifiers with vectorizer Bag-of-wods and Tfidf')\n",
    "for i, v in enumerate(list(automotive_health.values())):\n",
    "    a=round(v,2)\n",
    "    plt.text(v+0.01 , i , str(a), color='black', fontweight='bold')\n",
    "plt.show()"
   ]
  },
  {
   "cell_type": "markdown",
   "metadata": {
    "colab_type": "text",
    "id": "tIxhXyokMW48"
   },
   "source": [
    "It can be observed from the above graph that after combining the reviews from both categories Tfidf trained model got higher accuracy then Bag-Of-Words. This is because there were more examples to calibirate Tfidf.  "
   ]
  },
  {
   "cell_type": "markdown",
   "metadata": {
    "colab_type": "text",
    "id": "ALTFrA3wMW48"
   },
   "source": [
    "As there are less number of negative examples the classifiers are not able to classify negative examples that well then positive examples.\n",
    "It can be observed from the above experiments that using **Tfidf vectorizer** is better option than using bag-of-words vectorizer. It can also be observed that **SVM** is the better classifier for the data, compared to other classifiers used in this experiment(i.e K-nn and Naive Bayes). "
   ]
  },
  {
   "cell_type": "markdown",
   "metadata": {
    "colab_type": "text",
    "id": "FCNYt5qkMW49"
   },
   "source": [
    "## Task-3 How well two classification models transfer between category."
   ]
  },
  {
   "cell_type": "markdown",
   "metadata": {
    "colab_type": "text",
    "id": "1KMJPoNTMW49"
   },
   "source": [
    "There are 2 part of this task:\n",
    "1. In this we will train SVM classifier on Automotive reviews and will test on Health and Science reviews.\n",
    "2. In this we will train SVM classifier on Health and Science reviews and will test on Automotive reviews."
   ]
  },
  {
   "cell_type": "code",
   "execution_count": 0,
   "metadata": {
    "colab": {},
    "colab_type": "code",
    "id": "-B7oXgAkMW49"
   },
   "outputs": [],
   "source": [
    "task3 = {} #to store the accuracy value"
   ]
  },
  {
   "cell_type": "markdown",
   "metadata": {
    "colab_type": "text",
    "id": "pdvXHO8JMW5K"
   },
   "source": [
    "###  Train on automotive reviews and  test on Health and Science reviews."
   ]
  },
  {
   "cell_type": "code",
   "execution_count": 59,
   "metadata": {
    "colab": {
     "base_uri": "https://localhost:8080/",
     "height": 362
    },
    "colab_type": "code",
    "id": "Ux_0SW3EMW5K",
    "outputId": "6e715069-d10c-4aee-9de4-ab48fd70aac6"
   },
   "outputs": [
    {
     "name": "stdout",
     "output_type": "stream",
     "text": [
      "Accuracy: 0.9006896551724138\n",
      "              precision    recall  f1-score   support\n",
      "\n",
      "    negative       0.86      0.77      0.81       407\n",
      "    positive       0.92      0.95      0.93      1043\n",
      "\n",
      "   micro avg       0.90      0.90      0.90      1450\n",
      "   macro avg       0.89      0.86      0.87      1450\n",
      "weighted avg       0.90      0.90      0.90      1450\n",
      "\n",
      "Confusion Matrix\n"
     ]
    },
    {
     "data": {
      "text/html": [
       "<div>\n",
       "<style scoped>\n",
       "    .dataframe tbody tr th:only-of-type {\n",
       "        vertical-align: middle;\n",
       "    }\n",
       "\n",
       "    .dataframe tbody tr th {\n",
       "        vertical-align: top;\n",
       "    }\n",
       "\n",
       "    .dataframe thead th {\n",
       "        text-align: right;\n",
       "    }\n",
       "</style>\n",
       "<table border=\"1\" class=\"dataframe\">\n",
       "  <thead>\n",
       "    <tr style=\"text-align: right;\">\n",
       "      <th>Predicted</th>\n",
       "      <th>negative</th>\n",
       "      <th>positive</th>\n",
       "      <th>All</th>\n",
       "    </tr>\n",
       "    <tr>\n",
       "      <th>True</th>\n",
       "      <th></th>\n",
       "      <th></th>\n",
       "      <th></th>\n",
       "    </tr>\n",
       "  </thead>\n",
       "  <tbody>\n",
       "    <tr>\n",
       "      <th>negative</th>\n",
       "      <td>315</td>\n",
       "      <td>92</td>\n",
       "      <td>407</td>\n",
       "    </tr>\n",
       "    <tr>\n",
       "      <th>positive</th>\n",
       "      <td>52</td>\n",
       "      <td>991</td>\n",
       "      <td>1043</td>\n",
       "    </tr>\n",
       "    <tr>\n",
       "      <th>All</th>\n",
       "      <td>367</td>\n",
       "      <td>1083</td>\n",
       "      <td>1450</td>\n",
       "    </tr>\n",
       "  </tbody>\n",
       "</table>\n",
       "</div>"
      ],
      "text/plain": [
       "Predicted  negative  positive   All\n",
       "True                               \n",
       "negative        315        92   407\n",
       "positive         52       991  1043\n",
       "All             367      1083  1450"
      ]
     },
     "execution_count": 59,
     "metadata": {
      "tags": []
     },
     "output_type": "execute_result"
    }
   ],
   "source": [
    "#Train\n",
    "x_train = automotive_reviews_ratings['review']\n",
    "y_train = automotive_reviews_ratings['rating']\n",
    "\n",
    "#Test\n",
    "x_test = health_reviews_ratings['review']\n",
    "y_test = health_reviews_ratings['rating']\n",
    "\n",
    "\n",
    "pipeline = create_pipeline(svm.SVC(C=1,kernel='linear',probability=True),'Tfidf')\n",
    "\n",
    "pipeline.fit(x_train,y_train)\n",
    "\n",
    "#Store the features\n",
    "automotive_features = pipeline.named_steps['vectorizer'].get_feature_names()\n",
    "\n",
    "#Make prediction\n",
    "predicted = pipeline.predict(x_test)\n",
    "\n",
    "accuracy = metrics.accuracy_score(y_test, predicted) # , normalize=True, sample_weight=None\n",
    "\n",
    "task3['Train_on_automotive_test_on_health'] = accuracy\n",
    "\n",
    "print(\"Accuracy: \" +  str(accuracy))\n",
    "print(metrics.classification_report(y_test, predicted))\n",
    "\n",
    "print(\"Confusion Matrix\")\n",
    "pd.crosstab(np.array(y_test), predicted, rownames=['True'], colnames=['Predicted'], margins=True)"
   ]
  },
  {
   "cell_type": "code",
   "execution_count": 55,
   "metadata": {
    "colab": {
     "base_uri": "https://localhost:8080/",
     "height": 295
    },
    "colab_type": "code",
    "id": "BcTjM924MW5M",
    "outputId": "990349fd-c159-48ba-9e45-0b1efa69fb59"
   },
   "outputs": [
    {
     "data": {
      "image/png": "[encoded data removed]",
      "text/plain": [
       "<Figure size 432x288 with 1 Axes>"
      ]
     },
     "metadata": {
      "tags": []
     },
     "output_type": "display_data"
    }
   ],
   "source": [
    "#ROC curve\n",
    "probs = pipeline.predict_proba(x_test)\n",
    "preds = probs[:,0]\n",
    "fpr, tpr, threshold = metrics.roc_curve(y_test, preds,pos_label='negative')\n",
    "roc_auc = metrics.auc(fpr, tpr)\n",
    "\n",
    "plt.title('ROC Curve')\n",
    "plt.plot(fpr, tpr, 'b', label = 'AUC for negative = %0.2f' % roc_auc,color = 'r')\n",
    "\n",
    "preds = probs[:,1]\n",
    "fpr, tpr, threshold = metrics.roc_curve(y_test, preds,pos_label='positive')\n",
    "roc_auc = metrics.auc(fpr, tpr)\n",
    "plt.plot(fpr, tpr, 'b', label = 'AUC for positive = %0.2f' % roc_auc)\n",
    "\n",
    "plt.legend(loc = 'lower right')\n",
    "plt.plot([0, 1], [0, 1],'r--')\n",
    "plt.xlim([0, 1])\n",
    "plt.ylim([0, 1])\n",
    "plt.ylabel('True Positive Rate')\n",
    "plt.xlabel('False Positive Rate')\n",
    "plt.show()\n"
   ]
  },
  {
   "cell_type": "markdown",
   "metadata": {
    "colab_type": "text",
    "id": "4dM8TKLZMW5P"
   },
   "source": [
    "### Train on Automotive reviews and Test on Health and Science reviews."
   ]
  },
  {
   "cell_type": "code",
   "execution_count": 60,
   "metadata": {
    "colab": {
     "base_uri": "https://localhost:8080/",
     "height": 362
    },
    "colab_type": "code",
    "id": "F4zXPg18MW5Q",
    "outputId": "75c47fd3-74ce-4f20-92fb-35f95f044204"
   },
   "outputs": [
    {
     "name": "stdout",
     "output_type": "stream",
     "text": [
      "Accuracy: 0.8810996563573883\n",
      "              precision    recall  f1-score   support\n",
      "\n",
      "    negative       0.83      0.80      0.82       482\n",
      "    positive       0.90      0.92      0.91       973\n",
      "\n",
      "   micro avg       0.88      0.88      0.88      1455\n",
      "   macro avg       0.87      0.86      0.86      1455\n",
      "weighted avg       0.88      0.88      0.88      1455\n",
      "\n",
      "Confusion Matrix\n"
     ]
    },
    {
     "data": {
      "text/html": [
       "<div>\n",
       "<style scoped>\n",
       "    .dataframe tbody tr th:only-of-type {\n",
       "        vertical-align: middle;\n",
       "    }\n",
       "\n",
       "    .dataframe tbody tr th {\n",
       "        vertical-align: top;\n",
       "    }\n",
       "\n",
       "    .dataframe thead th {\n",
       "        text-align: right;\n",
       "    }\n",
       "</style>\n",
       "<table border=\"1\" class=\"dataframe\">\n",
       "  <thead>\n",
       "    <tr style=\"text-align: right;\">\n",
       "      <th>Predicted</th>\n",
       "      <th>negative</th>\n",
       "      <th>positive</th>\n",
       "      <th>All</th>\n",
       "    </tr>\n",
       "    <tr>\n",
       "      <th>True</th>\n",
       "      <th></th>\n",
       "      <th></th>\n",
       "      <th></th>\n",
       "    </tr>\n",
       "  </thead>\n",
       "  <tbody>\n",
       "    <tr>\n",
       "      <th>negative</th>\n",
       "      <td>387</td>\n",
       "      <td>95</td>\n",
       "      <td>482</td>\n",
       "    </tr>\n",
       "    <tr>\n",
       "      <th>positive</th>\n",
       "      <td>78</td>\n",
       "      <td>895</td>\n",
       "      <td>973</td>\n",
       "    </tr>\n",
       "    <tr>\n",
       "      <th>All</th>\n",
       "      <td>465</td>\n",
       "      <td>990</td>\n",
       "      <td>1455</td>\n",
       "    </tr>\n",
       "  </tbody>\n",
       "</table>\n",
       "</div>"
      ],
      "text/plain": [
       "Predicted  negative  positive   All\n",
       "True                               \n",
       "negative        387        95   482\n",
       "positive         78       895   973\n",
       "All             465       990  1455"
      ]
     },
     "execution_count": 60,
     "metadata": {
      "tags": []
     },
     "output_type": "execute_result"
    }
   ],
   "source": [
    "#Train\n",
    "x_train = health_reviews_ratings['review']\n",
    "y_train = health_reviews_ratings['rating']\n",
    "\n",
    "#Test\n",
    "x_test = automotive_reviews_ratings['review']\n",
    "y_test = automotive_reviews_ratings['rating']\n",
    "\n",
    "pipeline = create_pipeline(svm.SVC(C=1,kernel='linear',probability=True),'Tfidf')\n",
    "\n",
    "pipeline.fit(x_train,y_train)\n",
    "\n",
    "#Store the features\n",
    "health_features = pipeline.named_steps['vectorizer'].get_feature_names()\n",
    "\n",
    "#Make predictions\n",
    "predicted = pipeline.predict(x_test)\n",
    "\n",
    "accuracy = metrics.accuracy_score(y_test, predicted) # , normalize=True, sample_weight=None\n",
    "task3['Train_on_health_test_on_automotive'] = accuracy\n",
    "print(\"Accuracy: \" +  str(accuracy))\n",
    "print(metrics.classification_report(y_test, predicted))\n",
    "\n",
    "print(\"Confusion Matrix\")\n",
    "pd.crosstab(np.array(y_test), predicted, rownames=['True'], colnames=['Predicted'], margins=True)"
   ]
  },
  {
   "cell_type": "code",
   "execution_count": 57,
   "metadata": {
    "colab": {
     "base_uri": "https://localhost:8080/",
     "height": 295
    },
    "colab_type": "code",
    "id": "5fOLNGb8MW5T",
    "outputId": "f8a5df41-24e8-48ec-d21b-39b4c7ff557a"
   },
   "outputs": [
    {
     "data": {
      "image/png": "[encoded data removed]",
      "text/plain": [
       "<Figure size 432x288 with 1 Axes>"
      ]
     },
     "metadata": {
      "tags": []
     },
     "output_type": "display_data"
    }
   ],
   "source": [
    "#ROC - Curve \n",
    "probs = pipeline.predict_proba(x_test)\n",
    "\n",
    "preds = probs[:,0]\n",
    "fpr, tpr, threshold = metrics.roc_curve(y_test, preds,pos_label='negative')\n",
    "roc_auc = metrics.auc(fpr, tpr)\n",
    "plt.title('ROC Curve')\n",
    "plt.plot(fpr, tpr, 'b', label = 'AUC for negative = %0.2f' % roc_auc,color = 'r')\n",
    "\n",
    "preds = probs[:,1]\n",
    "fpr, tpr, threshold = metrics.roc_curve(y_test, preds,pos_label='positive')\n",
    "roc_auc = metrics.auc(fpr, tpr)\n",
    "plt.plot(fpr, tpr, 'b', label = 'AUC for positive = %0.2f' % roc_auc)\n",
    "\n",
    "plt.legend(loc = 'lower right')\n",
    "plt.plot([0, 1], [0, 1],'r--')\n",
    "plt.xlim([0, 1])\n",
    "plt.ylim([0, 1])\n",
    "plt.ylabel('True Positive Rate')\n",
    "plt.xlabel('False Positive Rate')\n",
    "plt.show()\n"
   ]
  },
  {
   "cell_type": "code",
   "execution_count": 58,
   "metadata": {
    "colab": {
     "base_uri": "https://localhost:8080/",
     "height": 295
    },
    "colab_type": "code",
    "id": "pLI9qj-IMW5V",
    "outputId": "fe37cb22-d240-46f0-eda9-f744ea661289"
   },
   "outputs": [
    {
     "data": {
      "image/png": "[encoded data removed]",
      "text/plain": [
       "<Figure size 432x288 with 1 Axes>"
      ]
     },
     "metadata": {
      "tags": []
     },
     "output_type": "display_data"
    }
   ],
   "source": [
    "plt.xlim(0, 1.0)\n",
    "_ = plt.barh(range(len(task3)), list(task3.values()), align='center')\n",
    "_ = plt.yticks(range(len(task3)), list(task3.keys()))\n",
    "plt.title('Evaluation of how well two classification models transfer between category')\n",
    "plt.xlabel('Accuracy')\n",
    "for i, v in enumerate(list(task3.values())):\n",
    "    a=round(v,2)\n",
    "    plt.text(v+0.01 , i , str(a), color='black', fontweight='bold')\n",
    "plt.show()"
   ]
  },
  {
   "cell_type": "code",
   "execution_count": 61,
   "metadata": {
    "colab": {
     "base_uri": "https://localhost:8080/",
     "height": 35
    },
    "colab_type": "code",
    "id": "_UHKzqs2hbV3",
    "outputId": "bff1d219-421a-4650-d039-8d5f2815a779"
   },
   "outputs": [
    {
     "data": {
      "text/plain": [
       "962"
      ]
     },
     "execution_count": 61,
     "metadata": {
      "tags": []
     },
     "output_type": "execute_result"
    }
   ],
   "source": [
    "#Features common in both categories reviews\n",
    "len(list(set(automotive_features).intersection(health_features)))"
   ]
  },
  {
   "cell_type": "markdown",
   "metadata": {
    "colab_type": "text",
    "id": "ZOSV-B9qMW5Y"
   },
   "source": [
    "It can be observed that for both of the above cases classifier gives nearly same accuracy. In both cases as there are less number of negative examples in training there are more missclassified negative examples. Both have nearly same accuracy because there are many words common in both categories as it can be seen from the features that are common in both categories. "
   ]
  }
 ],
 "metadata": {
  "colab": {
   "name": "Assignment-2.ipynb",
   "provenance": [],
   "version": "0.3.2"
  },
  "kernelspec": {
   "display_name": "Python 3",
   "language": "python",
   "name": "python3"
  },
  "language_info": {
   "codemirror_mode": {
    "name": "ipython",
    "version": 3
   },
   "file_extension": ".py",
   "mimetype": "text/x-python",
   "name": "python",
   "nbconvert_exporter": "python",
   "pygments_lexer": "ipython3",
   "version": "3.6.8"
  }
 },
 "nbformat": 4,
 "nbformat_minor": 1
}
